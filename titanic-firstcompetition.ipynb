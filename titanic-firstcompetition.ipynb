{
 "cells": [
  {
   "cell_type": "code",
   "execution_count": 1,
   "id": "3a5752f0",
   "metadata": {
    "_cell_guid": "b1076dfc-b9ad-4769-8c92-a6c4dae69d19",
    "_uuid": "8f2839f25d086af736a60e9eeb907d3b93b6e0e5",
    "execution": {
     "iopub.execute_input": "2025-04-23T08:55:51.221937Z",
     "iopub.status.busy": "2025-04-23T08:55:51.221626Z",
     "iopub.status.idle": "2025-04-23T08:55:53.152720Z",
     "shell.execute_reply": "2025-04-23T08:55:53.151624Z"
    },
    "papermill": {
     "duration": 1.945247,
     "end_time": "2025-04-23T08:55:53.154434",
     "exception": false,
     "start_time": "2025-04-23T08:55:51.209187",
     "status": "completed"
    },
    "tags": []
   },
   "outputs": [
    {
     "name": "stdout",
     "output_type": "stream",
     "text": [
      "/kaggle/input/titanic/train.csv\n",
      "/kaggle/input/titanic/test.csv\n",
      "/kaggle/input/titanic/gender_submission.csv\n"
     ]
    }
   ],
   "source": [
    "# This Python 3 environment comes with many helpful analytics libraries installed\n",
    "# It is defined by the kaggle/python Docker image: https://github.com/kaggle/docker-python\n",
    "# For example, here's several helpful packages to load\n",
    "\n",
    "import numpy as np # linear algebra\n",
    "import pandas as pd # data processing, CSV file I/O (e.g. pd.read_csv)\n",
    "\n",
    "# Input data files are available in the read-only \"../input/\" directory\n",
    "# For example, running this (by clicking run or pressing Shift+Enter) will list all files under the input directory\n",
    "\n",
    "import os\n",
    "for dirname, _, filenames in os.walk('/kaggle/input'):\n",
    "    for filename in filenames:\n",
    "        print(os.path.join(dirname, filename))\n",
    "\n",
    "# You can write up to 20GB to the current directory (/kaggle/working/) that gets preserved as output when you create a version using \"Save & Run All\" \n",
    "# You can also write temporary files to /kaggle/temp/, but they won't be saved outside of the current session"
   ]
  },
  {
   "cell_type": "markdown",
   "id": "9cc5f639",
   "metadata": {
    "papermill": {
     "duration": 0.009674,
     "end_time": "2025-04-23T08:55:53.182573",
     "exception": false,
     "start_time": "2025-04-23T08:55:53.172899",
     "status": "completed"
    },
    "tags": []
   },
   "source": [
    "### Imports"
   ]
  },
  {
   "cell_type": "code",
   "execution_count": 2,
   "id": "5a5cd733",
   "metadata": {
    "execution": {
     "iopub.execute_input": "2025-04-23T08:55:53.204292Z",
     "iopub.status.busy": "2025-04-23T08:55:53.203378Z",
     "iopub.status.idle": "2025-04-23T08:55:58.045946Z",
     "shell.execute_reply": "2025-04-23T08:55:58.044673Z"
    },
    "papermill": {
     "duration": 4.855179,
     "end_time": "2025-04-23T08:55:58.047659",
     "exception": false,
     "start_time": "2025-04-23T08:55:53.192480",
     "status": "completed"
    },
    "tags": []
   },
   "outputs": [
    {
     "name": "stdout",
     "output_type": "stream",
     "text": [
      "Requirement already satisfied: catboost in /usr/local/lib/python3.11/dist-packages (1.2.7)\r\n",
      "Requirement already satisfied: graphviz in /usr/local/lib/python3.11/dist-packages (from catboost) (0.20.3)\r\n",
      "Requirement already satisfied: matplotlib in /usr/local/lib/python3.11/dist-packages (from catboost) (3.7.5)\r\n",
      "Requirement already satisfied: numpy<2.0,>=1.16.0 in /usr/local/lib/python3.11/dist-packages (from catboost) (1.26.4)\r\n",
      "Requirement already satisfied: pandas>=0.24 in /usr/local/lib/python3.11/dist-packages (from catboost) (2.2.3)\r\n",
      "Requirement already satisfied: scipy in /usr/local/lib/python3.11/dist-packages (from catboost) (1.15.2)\r\n",
      "Requirement already satisfied: plotly in /usr/local/lib/python3.11/dist-packages (from catboost) (5.24.1)\r\n",
      "Requirement already satisfied: six in /usr/local/lib/python3.11/dist-packages (from catboost) (1.17.0)\r\n",
      "Requirement already satisfied: mkl_fft in /usr/local/lib/python3.11/dist-packages (from numpy<2.0,>=1.16.0->catboost) (1.3.8)\r\n",
      "Requirement already satisfied: mkl_random in /usr/local/lib/python3.11/dist-packages (from numpy<2.0,>=1.16.0->catboost) (1.2.4)\r\n",
      "Requirement already satisfied: mkl_umath in /usr/local/lib/python3.11/dist-packages (from numpy<2.0,>=1.16.0->catboost) (0.1.1)\r\n",
      "Requirement already satisfied: mkl in /usr/local/lib/python3.11/dist-packages (from numpy<2.0,>=1.16.0->catboost) (2025.1.0)\r\n",
      "Requirement already satisfied: tbb4py in /usr/local/lib/python3.11/dist-packages (from numpy<2.0,>=1.16.0->catboost) (2022.1.0)\r\n",
      "Requirement already satisfied: mkl-service in /usr/local/lib/python3.11/dist-packages (from numpy<2.0,>=1.16.0->catboost) (2.4.1)\r\n",
      "Requirement already satisfied: python-dateutil>=2.8.2 in /usr/local/lib/python3.11/dist-packages (from pandas>=0.24->catboost) (2.9.0.post0)\r\n",
      "Requirement already satisfied: pytz>=2020.1 in /usr/local/lib/python3.11/dist-packages (from pandas>=0.24->catboost) (2025.2)\r\n",
      "Requirement already satisfied: tzdata>=2022.7 in /usr/local/lib/python3.11/dist-packages (from pandas>=0.24->catboost) (2025.2)\r\n",
      "Requirement already satisfied: contourpy>=1.0.1 in /usr/local/lib/python3.11/dist-packages (from matplotlib->catboost) (1.3.1)\r\n",
      "Requirement already satisfied: cycler>=0.10 in /usr/local/lib/python3.11/dist-packages (from matplotlib->catboost) (0.12.1)\r\n",
      "Requirement already satisfied: fonttools>=4.22.0 in /usr/local/lib/python3.11/dist-packages (from matplotlib->catboost) (4.56.0)\r\n",
      "Requirement already satisfied: kiwisolver>=1.0.1 in /usr/local/lib/python3.11/dist-packages (from matplotlib->catboost) (1.4.8)\r\n",
      "Requirement already satisfied: packaging>=20.0 in /usr/local/lib/python3.11/dist-packages (from matplotlib->catboost) (24.2)\r\n",
      "Requirement already satisfied: pillow>=6.2.0 in /usr/local/lib/python3.11/dist-packages (from matplotlib->catboost) (11.1.0)\r\n",
      "Requirement already satisfied: pyparsing>=2.3.1 in /usr/local/lib/python3.11/dist-packages (from matplotlib->catboost) (3.2.1)\r\n",
      "Requirement already satisfied: tenacity>=6.2.0 in /usr/local/lib/python3.11/dist-packages (from plotly->catboost) (9.0.0)\r\n",
      "Requirement already satisfied: intel-openmp<2026,>=2024 in /usr/local/lib/python3.11/dist-packages (from mkl->numpy<2.0,>=1.16.0->catboost) (2024.2.0)\r\n",
      "Requirement already satisfied: tbb==2022.* in /usr/local/lib/python3.11/dist-packages (from mkl->numpy<2.0,>=1.16.0->catboost) (2022.1.0)\r\n",
      "Requirement already satisfied: tcmlib==1.* in /usr/local/lib/python3.11/dist-packages (from tbb==2022.*->mkl->numpy<2.0,>=1.16.0->catboost) (1.2.0)\r\n",
      "Requirement already satisfied: intel-cmplr-lib-rt in /usr/local/lib/python3.11/dist-packages (from mkl_umath->numpy<2.0,>=1.16.0->catboost) (2024.2.0)\r\n",
      "Requirement already satisfied: intel-cmplr-lib-ur==2024.2.0 in /usr/local/lib/python3.11/dist-packages (from intel-openmp<2026,>=2024->mkl->numpy<2.0,>=1.16.0->catboost) (2024.2.0)\r\n",
      "Note: you may need to restart the kernel to use updated packages.\n"
     ]
    }
   ],
   "source": [
    "pip install catboost"
   ]
  },
  {
   "cell_type": "code",
   "execution_count": 3,
   "id": "b1adb3a4",
   "metadata": {
    "execution": {
     "iopub.execute_input": "2025-04-23T08:55:58.071570Z",
     "iopub.status.busy": "2025-04-23T08:55:58.071241Z",
     "iopub.status.idle": "2025-04-23T08:56:01.020678Z",
     "shell.execute_reply": "2025-04-23T08:56:01.019653Z"
    },
    "papermill": {
     "duration": 2.96367,
     "end_time": "2025-04-23T08:56:01.022403",
     "exception": false,
     "start_time": "2025-04-23T08:55:58.058733",
     "status": "completed"
    },
    "tags": []
   },
   "outputs": [],
   "source": [
    "import seaborn as sns\n",
    "import matplotlib.pyplot as plt\n",
    "from scipy.stats import ttest_ind\n",
    "from scipy.stats import chi2_contingency\n",
    "from sklearn.ensemble import RandomForestClassifier\n",
    "from catboost import CatBoostClassifier, Pool\n",
    "from sklearn.model_selection import train_test_split\n",
    "from sklearn.metrics import accuracy_score, classification_report, confusion_matrix\n",
    "from sklearn.model_selection import cross_val_score, StratifiedKFold\n",
    "from sklearn.model_selection import GridSearchCV\n",
    "from catboost import cv"
   ]
  },
  {
   "cell_type": "markdown",
   "id": "a32014bd",
   "metadata": {
    "papermill": {
     "duration": 0.009984,
     "end_time": "2025-04-23T08:56:01.042910",
     "exception": false,
     "start_time": "2025-04-23T08:56:01.032926",
     "status": "completed"
    },
    "tags": []
   },
   "source": [
    "### Load Data"
   ]
  },
  {
   "cell_type": "code",
   "execution_count": 4,
   "id": "25a78294",
   "metadata": {
    "execution": {
     "iopub.execute_input": "2025-04-23T08:56:01.065438Z",
     "iopub.status.busy": "2025-04-23T08:56:01.064460Z",
     "iopub.status.idle": "2025-04-23T08:56:01.093362Z",
     "shell.execute_reply": "2025-04-23T08:56:01.092660Z"
    },
    "papermill": {
     "duration": 0.041964,
     "end_time": "2025-04-23T08:56:01.095014",
     "exception": false,
     "start_time": "2025-04-23T08:56:01.053050",
     "status": "completed"
    },
    "tags": []
   },
   "outputs": [],
   "source": [
    "#Let started with the loading data\n",
    "\n",
    "test_df = pd.read_csv('/kaggle/input/titanic/test.csv')\n",
    "train_df = pd.read_csv('/kaggle/input/titanic/train.csv')"
   ]
  },
  {
   "cell_type": "code",
   "execution_count": 5,
   "id": "1c87109a",
   "metadata": {
    "execution": {
     "iopub.execute_input": "2025-04-23T08:56:01.117682Z",
     "iopub.status.busy": "2025-04-23T08:56:01.117031Z",
     "iopub.status.idle": "2025-04-23T08:56:01.145309Z",
     "shell.execute_reply": "2025-04-23T08:56:01.144397Z"
    },
    "papermill": {
     "duration": 0.040907,
     "end_time": "2025-04-23T08:56:01.146762",
     "exception": false,
     "start_time": "2025-04-23T08:56:01.105855",
     "status": "completed"
    },
    "tags": []
   },
   "outputs": [
    {
     "name": "stdout",
     "output_type": "stream",
     "text": [
      "The testing dataset contains 418 rows and 11 columns\n"
     ]
    },
    {
     "data": {
      "text/html": [
       "<div>\n",
       "<style scoped>\n",
       "    .dataframe tbody tr th:only-of-type {\n",
       "        vertical-align: middle;\n",
       "    }\n",
       "\n",
       "    .dataframe tbody tr th {\n",
       "        vertical-align: top;\n",
       "    }\n",
       "\n",
       "    .dataframe thead th {\n",
       "        text-align: right;\n",
       "    }\n",
       "</style>\n",
       "<table border=\"1\" class=\"dataframe\">\n",
       "  <thead>\n",
       "    <tr style=\"text-align: right;\">\n",
       "      <th></th>\n",
       "      <th>PassengerId</th>\n",
       "      <th>Pclass</th>\n",
       "      <th>Name</th>\n",
       "      <th>Sex</th>\n",
       "      <th>Age</th>\n",
       "      <th>SibSp</th>\n",
       "      <th>Parch</th>\n",
       "      <th>Ticket</th>\n",
       "      <th>Fare</th>\n",
       "      <th>Cabin</th>\n",
       "      <th>Embarked</th>\n",
       "    </tr>\n",
       "  </thead>\n",
       "  <tbody>\n",
       "    <tr>\n",
       "      <th>0</th>\n",
       "      <td>892</td>\n",
       "      <td>3</td>\n",
       "      <td>Kelly, Mr. James</td>\n",
       "      <td>male</td>\n",
       "      <td>34.5</td>\n",
       "      <td>0</td>\n",
       "      <td>0</td>\n",
       "      <td>330911</td>\n",
       "      <td>7.8292</td>\n",
       "      <td>NaN</td>\n",
       "      <td>Q</td>\n",
       "    </tr>\n",
       "    <tr>\n",
       "      <th>1</th>\n",
       "      <td>893</td>\n",
       "      <td>3</td>\n",
       "      <td>Wilkes, Mrs. James (Ellen Needs)</td>\n",
       "      <td>female</td>\n",
       "      <td>47.0</td>\n",
       "      <td>1</td>\n",
       "      <td>0</td>\n",
       "      <td>363272</td>\n",
       "      <td>7.0000</td>\n",
       "      <td>NaN</td>\n",
       "      <td>S</td>\n",
       "    </tr>\n",
       "    <tr>\n",
       "      <th>2</th>\n",
       "      <td>894</td>\n",
       "      <td>2</td>\n",
       "      <td>Myles, Mr. Thomas Francis</td>\n",
       "      <td>male</td>\n",
       "      <td>62.0</td>\n",
       "      <td>0</td>\n",
       "      <td>0</td>\n",
       "      <td>240276</td>\n",
       "      <td>9.6875</td>\n",
       "      <td>NaN</td>\n",
       "      <td>Q</td>\n",
       "    </tr>\n",
       "    <tr>\n",
       "      <th>3</th>\n",
       "      <td>895</td>\n",
       "      <td>3</td>\n",
       "      <td>Wirz, Mr. Albert</td>\n",
       "      <td>male</td>\n",
       "      <td>27.0</td>\n",
       "      <td>0</td>\n",
       "      <td>0</td>\n",
       "      <td>315154</td>\n",
       "      <td>8.6625</td>\n",
       "      <td>NaN</td>\n",
       "      <td>S</td>\n",
       "    </tr>\n",
       "    <tr>\n",
       "      <th>4</th>\n",
       "      <td>896</td>\n",
       "      <td>3</td>\n",
       "      <td>Hirvonen, Mrs. Alexander (Helga E Lindqvist)</td>\n",
       "      <td>female</td>\n",
       "      <td>22.0</td>\n",
       "      <td>1</td>\n",
       "      <td>1</td>\n",
       "      <td>3101298</td>\n",
       "      <td>12.2875</td>\n",
       "      <td>NaN</td>\n",
       "      <td>S</td>\n",
       "    </tr>\n",
       "  </tbody>\n",
       "</table>\n",
       "</div>"
      ],
      "text/plain": [
       "   PassengerId  Pclass                                          Name     Sex  \\\n",
       "0          892       3                              Kelly, Mr. James    male   \n",
       "1          893       3              Wilkes, Mrs. James (Ellen Needs)  female   \n",
       "2          894       2                     Myles, Mr. Thomas Francis    male   \n",
       "3          895       3                              Wirz, Mr. Albert    male   \n",
       "4          896       3  Hirvonen, Mrs. Alexander (Helga E Lindqvist)  female   \n",
       "\n",
       "    Age  SibSp  Parch   Ticket     Fare Cabin Embarked  \n",
       "0  34.5      0      0   330911   7.8292   NaN        Q  \n",
       "1  47.0      1      0   363272   7.0000   NaN        S  \n",
       "2  62.0      0      0   240276   9.6875   NaN        Q  \n",
       "3  27.0      0      0   315154   8.6625   NaN        S  \n",
       "4  22.0      1      1  3101298  12.2875   NaN        S  "
      ]
     },
     "execution_count": 5,
     "metadata": {},
     "output_type": "execute_result"
    }
   ],
   "source": [
    "#We can start looking into our data, to get familiar with the features that we have to work on. \n",
    "\n",
    "print(f'The testing dataset contains {test_df.shape[0]} rows and {test_df.shape[1]} columns')\n",
    "test_df.head()"
   ]
  },
  {
   "cell_type": "code",
   "execution_count": 6,
   "id": "cbf27e65",
   "metadata": {
    "execution": {
     "iopub.execute_input": "2025-04-23T08:56:01.169132Z",
     "iopub.status.busy": "2025-04-23T08:56:01.168797Z",
     "iopub.status.idle": "2025-04-23T08:56:01.182381Z",
     "shell.execute_reply": "2025-04-23T08:56:01.181629Z"
    },
    "papermill": {
     "duration": 0.026456,
     "end_time": "2025-04-23T08:56:01.183910",
     "exception": false,
     "start_time": "2025-04-23T08:56:01.157454",
     "status": "completed"
    },
    "tags": []
   },
   "outputs": [
    {
     "name": "stdout",
     "output_type": "stream",
     "text": [
      "The training dataset contains 891 rows and 12 columns\n"
     ]
    },
    {
     "data": {
      "text/html": [
       "<div>\n",
       "<style scoped>\n",
       "    .dataframe tbody tr th:only-of-type {\n",
       "        vertical-align: middle;\n",
       "    }\n",
       "\n",
       "    .dataframe tbody tr th {\n",
       "        vertical-align: top;\n",
       "    }\n",
       "\n",
       "    .dataframe thead th {\n",
       "        text-align: right;\n",
       "    }\n",
       "</style>\n",
       "<table border=\"1\" class=\"dataframe\">\n",
       "  <thead>\n",
       "    <tr style=\"text-align: right;\">\n",
       "      <th></th>\n",
       "      <th>PassengerId</th>\n",
       "      <th>Survived</th>\n",
       "      <th>Pclass</th>\n",
       "      <th>Name</th>\n",
       "      <th>Sex</th>\n",
       "      <th>Age</th>\n",
       "      <th>SibSp</th>\n",
       "      <th>Parch</th>\n",
       "      <th>Ticket</th>\n",
       "      <th>Fare</th>\n",
       "      <th>Cabin</th>\n",
       "      <th>Embarked</th>\n",
       "    </tr>\n",
       "  </thead>\n",
       "  <tbody>\n",
       "    <tr>\n",
       "      <th>0</th>\n",
       "      <td>1</td>\n",
       "      <td>0</td>\n",
       "      <td>3</td>\n",
       "      <td>Braund, Mr. Owen Harris</td>\n",
       "      <td>male</td>\n",
       "      <td>22.0</td>\n",
       "      <td>1</td>\n",
       "      <td>0</td>\n",
       "      <td>A/5 21171</td>\n",
       "      <td>7.2500</td>\n",
       "      <td>NaN</td>\n",
       "      <td>S</td>\n",
       "    </tr>\n",
       "    <tr>\n",
       "      <th>1</th>\n",
       "      <td>2</td>\n",
       "      <td>1</td>\n",
       "      <td>1</td>\n",
       "      <td>Cumings, Mrs. John Bradley (Florence Briggs Th...</td>\n",
       "      <td>female</td>\n",
       "      <td>38.0</td>\n",
       "      <td>1</td>\n",
       "      <td>0</td>\n",
       "      <td>PC 17599</td>\n",
       "      <td>71.2833</td>\n",
       "      <td>C85</td>\n",
       "      <td>C</td>\n",
       "    </tr>\n",
       "    <tr>\n",
       "      <th>2</th>\n",
       "      <td>3</td>\n",
       "      <td>1</td>\n",
       "      <td>3</td>\n",
       "      <td>Heikkinen, Miss. Laina</td>\n",
       "      <td>female</td>\n",
       "      <td>26.0</td>\n",
       "      <td>0</td>\n",
       "      <td>0</td>\n",
       "      <td>STON/O2. 3101282</td>\n",
       "      <td>7.9250</td>\n",
       "      <td>NaN</td>\n",
       "      <td>S</td>\n",
       "    </tr>\n",
       "    <tr>\n",
       "      <th>3</th>\n",
       "      <td>4</td>\n",
       "      <td>1</td>\n",
       "      <td>1</td>\n",
       "      <td>Futrelle, Mrs. Jacques Heath (Lily May Peel)</td>\n",
       "      <td>female</td>\n",
       "      <td>35.0</td>\n",
       "      <td>1</td>\n",
       "      <td>0</td>\n",
       "      <td>113803</td>\n",
       "      <td>53.1000</td>\n",
       "      <td>C123</td>\n",
       "      <td>S</td>\n",
       "    </tr>\n",
       "    <tr>\n",
       "      <th>4</th>\n",
       "      <td>5</td>\n",
       "      <td>0</td>\n",
       "      <td>3</td>\n",
       "      <td>Allen, Mr. William Henry</td>\n",
       "      <td>male</td>\n",
       "      <td>35.0</td>\n",
       "      <td>0</td>\n",
       "      <td>0</td>\n",
       "      <td>373450</td>\n",
       "      <td>8.0500</td>\n",
       "      <td>NaN</td>\n",
       "      <td>S</td>\n",
       "    </tr>\n",
       "  </tbody>\n",
       "</table>\n",
       "</div>"
      ],
      "text/plain": [
       "   PassengerId  Survived  Pclass  \\\n",
       "0            1         0       3   \n",
       "1            2         1       1   \n",
       "2            3         1       3   \n",
       "3            4         1       1   \n",
       "4            5         0       3   \n",
       "\n",
       "                                                Name     Sex   Age  SibSp  \\\n",
       "0                            Braund, Mr. Owen Harris    male  22.0      1   \n",
       "1  Cumings, Mrs. John Bradley (Florence Briggs Th...  female  38.0      1   \n",
       "2                             Heikkinen, Miss. Laina  female  26.0      0   \n",
       "3       Futrelle, Mrs. Jacques Heath (Lily May Peel)  female  35.0      1   \n",
       "4                           Allen, Mr. William Henry    male  35.0      0   \n",
       "\n",
       "   Parch            Ticket     Fare Cabin Embarked  \n",
       "0      0         A/5 21171   7.2500   NaN        S  \n",
       "1      0          PC 17599  71.2833   C85        C  \n",
       "2      0  STON/O2. 3101282   7.9250   NaN        S  \n",
       "3      0            113803  53.1000  C123        S  \n",
       "4      0            373450   8.0500   NaN        S  "
      ]
     },
     "execution_count": 6,
     "metadata": {},
     "output_type": "execute_result"
    }
   ],
   "source": [
    "#We can start looking into our data, to get familiar with the features that we have to work on.\n",
    "\n",
    "print(f'The training dataset contains {train_df.shape[0]} rows and {train_df.shape[1]} columns')\n",
    "train_df.head()"
   ]
  },
  {
   "cell_type": "markdown",
   "id": "2864b889",
   "metadata": {
    "papermill": {
     "duration": 0.010668,
     "end_time": "2025-04-23T08:56:01.205869",
     "exception": false,
     "start_time": "2025-04-23T08:56:01.195201",
     "status": "completed"
    },
    "tags": []
   },
   "source": [
    "At a first glance, we can say that we have categorical and nominal variables, and also some NaN values in `Cabin`column. Let's dive deeper to see what else we can find it."
   ]
  },
  {
   "cell_type": "markdown",
   "id": "a9f51260",
   "metadata": {
    "papermill": {
     "duration": 0.010772,
     "end_time": "2025-04-23T08:56:01.227259",
     "exception": false,
     "start_time": "2025-04-23T08:56:01.216487",
     "status": "completed"
    },
    "tags": []
   },
   "source": [
    "This method help us to have an overall description about the numerical features. Also, for the `Age` column we can recognize that it miss some values based that we have 418 rows and it contains only 332 with values (82 values are missing).\n",
    "Another highlighted, is that for the same column we have an overall idea that the oldest age for the passengers was 76 yo and the miniunum was a newborn.\n",
    "For `Fare`column (not sure yet) but it seems that the expensive fare is an outlier based that the mean is 35 , but is something that we have to analize later."
   ]
  },
  {
   "cell_type": "code",
   "execution_count": 7,
   "id": "ed5bf6a0",
   "metadata": {
    "execution": {
     "iopub.execute_input": "2025-04-23T08:56:01.252577Z",
     "iopub.status.busy": "2025-04-23T08:56:01.251475Z",
     "iopub.status.idle": "2025-04-23T08:56:01.279298Z",
     "shell.execute_reply": "2025-04-23T08:56:01.278402Z"
    },
    "papermill": {
     "duration": 0.042892,
     "end_time": "2025-04-23T08:56:01.281062",
     "exception": false,
     "start_time": "2025-04-23T08:56:01.238170",
     "status": "completed"
    },
    "tags": []
   },
   "outputs": [
    {
     "data": {
      "text/html": [
       "<div>\n",
       "<style scoped>\n",
       "    .dataframe tbody tr th:only-of-type {\n",
       "        vertical-align: middle;\n",
       "    }\n",
       "\n",
       "    .dataframe tbody tr th {\n",
       "        vertical-align: top;\n",
       "    }\n",
       "\n",
       "    .dataframe thead th {\n",
       "        text-align: right;\n",
       "    }\n",
       "</style>\n",
       "<table border=\"1\" class=\"dataframe\">\n",
       "  <thead>\n",
       "    <tr style=\"text-align: right;\">\n",
       "      <th></th>\n",
       "      <th>PassengerId</th>\n",
       "      <th>Pclass</th>\n",
       "      <th>Age</th>\n",
       "      <th>SibSp</th>\n",
       "      <th>Parch</th>\n",
       "      <th>Fare</th>\n",
       "    </tr>\n",
       "  </thead>\n",
       "  <tbody>\n",
       "    <tr>\n",
       "      <th>count</th>\n",
       "      <td>418.000000</td>\n",
       "      <td>418.000000</td>\n",
       "      <td>332.000000</td>\n",
       "      <td>418.000000</td>\n",
       "      <td>418.000000</td>\n",
       "      <td>417.000000</td>\n",
       "    </tr>\n",
       "    <tr>\n",
       "      <th>mean</th>\n",
       "      <td>1100.500000</td>\n",
       "      <td>2.265550</td>\n",
       "      <td>30.272590</td>\n",
       "      <td>0.447368</td>\n",
       "      <td>0.392344</td>\n",
       "      <td>35.627188</td>\n",
       "    </tr>\n",
       "    <tr>\n",
       "      <th>std</th>\n",
       "      <td>120.810458</td>\n",
       "      <td>0.841838</td>\n",
       "      <td>14.181209</td>\n",
       "      <td>0.896760</td>\n",
       "      <td>0.981429</td>\n",
       "      <td>55.907576</td>\n",
       "    </tr>\n",
       "    <tr>\n",
       "      <th>min</th>\n",
       "      <td>892.000000</td>\n",
       "      <td>1.000000</td>\n",
       "      <td>0.170000</td>\n",
       "      <td>0.000000</td>\n",
       "      <td>0.000000</td>\n",
       "      <td>0.000000</td>\n",
       "    </tr>\n",
       "    <tr>\n",
       "      <th>25%</th>\n",
       "      <td>996.250000</td>\n",
       "      <td>1.000000</td>\n",
       "      <td>21.000000</td>\n",
       "      <td>0.000000</td>\n",
       "      <td>0.000000</td>\n",
       "      <td>7.895800</td>\n",
       "    </tr>\n",
       "    <tr>\n",
       "      <th>50%</th>\n",
       "      <td>1100.500000</td>\n",
       "      <td>3.000000</td>\n",
       "      <td>27.000000</td>\n",
       "      <td>0.000000</td>\n",
       "      <td>0.000000</td>\n",
       "      <td>14.454200</td>\n",
       "    </tr>\n",
       "    <tr>\n",
       "      <th>75%</th>\n",
       "      <td>1204.750000</td>\n",
       "      <td>3.000000</td>\n",
       "      <td>39.000000</td>\n",
       "      <td>1.000000</td>\n",
       "      <td>0.000000</td>\n",
       "      <td>31.500000</td>\n",
       "    </tr>\n",
       "    <tr>\n",
       "      <th>max</th>\n",
       "      <td>1309.000000</td>\n",
       "      <td>3.000000</td>\n",
       "      <td>76.000000</td>\n",
       "      <td>8.000000</td>\n",
       "      <td>9.000000</td>\n",
       "      <td>512.329200</td>\n",
       "    </tr>\n",
       "  </tbody>\n",
       "</table>\n",
       "</div>"
      ],
      "text/plain": [
       "       PassengerId      Pclass         Age       SibSp       Parch        Fare\n",
       "count   418.000000  418.000000  332.000000  418.000000  418.000000  417.000000\n",
       "mean   1100.500000    2.265550   30.272590    0.447368    0.392344   35.627188\n",
       "std     120.810458    0.841838   14.181209    0.896760    0.981429   55.907576\n",
       "min     892.000000    1.000000    0.170000    0.000000    0.000000    0.000000\n",
       "25%     996.250000    1.000000   21.000000    0.000000    0.000000    7.895800\n",
       "50%    1100.500000    3.000000   27.000000    0.000000    0.000000   14.454200\n",
       "75%    1204.750000    3.000000   39.000000    1.000000    0.000000   31.500000\n",
       "max    1309.000000    3.000000   76.000000    8.000000    9.000000  512.329200"
      ]
     },
     "execution_count": 7,
     "metadata": {},
     "output_type": "execute_result"
    }
   ],
   "source": [
    "test_df.describe()"
   ]
  },
  {
   "cell_type": "markdown",
   "id": "e13400b1",
   "metadata": {
    "papermill": {
     "duration": 0.011185,
     "end_time": "2025-04-23T08:56:01.303288",
     "exception": false,
     "start_time": "2025-04-23T08:56:01.292103",
     "status": "completed"
    },
    "tags": []
   },
   "source": [
    "As we identified before, in this case `Cabin`has 327 missing values, it represents around 78% of the dataset. Another example that we can identify is that for the `Sex`column, there are more males than females, because it appears with a frequency equal to 266."
   ]
  },
  {
   "cell_type": "code",
   "execution_count": 8,
   "id": "a2ee4a72",
   "metadata": {
    "execution": {
     "iopub.execute_input": "2025-04-23T08:56:01.326385Z",
     "iopub.status.busy": "2025-04-23T08:56:01.326035Z",
     "iopub.status.idle": "2025-04-23T08:56:01.346982Z",
     "shell.execute_reply": "2025-04-23T08:56:01.346136Z"
    },
    "papermill": {
     "duration": 0.034239,
     "end_time": "2025-04-23T08:56:01.348448",
     "exception": false,
     "start_time": "2025-04-23T08:56:01.314209",
     "status": "completed"
    },
    "tags": []
   },
   "outputs": [
    {
     "data": {
      "text/html": [
       "<div>\n",
       "<style scoped>\n",
       "    .dataframe tbody tr th:only-of-type {\n",
       "        vertical-align: middle;\n",
       "    }\n",
       "\n",
       "    .dataframe tbody tr th {\n",
       "        vertical-align: top;\n",
       "    }\n",
       "\n",
       "    .dataframe thead th {\n",
       "        text-align: right;\n",
       "    }\n",
       "</style>\n",
       "<table border=\"1\" class=\"dataframe\">\n",
       "  <thead>\n",
       "    <tr style=\"text-align: right;\">\n",
       "      <th></th>\n",
       "      <th>Name</th>\n",
       "      <th>Sex</th>\n",
       "      <th>Ticket</th>\n",
       "      <th>Cabin</th>\n",
       "      <th>Embarked</th>\n",
       "    </tr>\n",
       "  </thead>\n",
       "  <tbody>\n",
       "    <tr>\n",
       "      <th>count</th>\n",
       "      <td>418</td>\n",
       "      <td>418</td>\n",
       "      <td>418</td>\n",
       "      <td>91</td>\n",
       "      <td>418</td>\n",
       "    </tr>\n",
       "    <tr>\n",
       "      <th>unique</th>\n",
       "      <td>418</td>\n",
       "      <td>2</td>\n",
       "      <td>363</td>\n",
       "      <td>76</td>\n",
       "      <td>3</td>\n",
       "    </tr>\n",
       "    <tr>\n",
       "      <th>top</th>\n",
       "      <td>Kelly, Mr. James</td>\n",
       "      <td>male</td>\n",
       "      <td>PC 17608</td>\n",
       "      <td>B57 B59 B63 B66</td>\n",
       "      <td>S</td>\n",
       "    </tr>\n",
       "    <tr>\n",
       "      <th>freq</th>\n",
       "      <td>1</td>\n",
       "      <td>266</td>\n",
       "      <td>5</td>\n",
       "      <td>3</td>\n",
       "      <td>270</td>\n",
       "    </tr>\n",
       "  </tbody>\n",
       "</table>\n",
       "</div>"
      ],
      "text/plain": [
       "                    Name   Sex    Ticket            Cabin Embarked\n",
       "count                418   418       418               91      418\n",
       "unique               418     2       363               76        3\n",
       "top     Kelly, Mr. James  male  PC 17608  B57 B59 B63 B66        S\n",
       "freq                   1   266         5                3      270"
      ]
     },
     "execution_count": 8,
     "metadata": {},
     "output_type": "execute_result"
    }
   ],
   "source": [
    "#With parameter include=object, we can have the same statistical analysis for categorical values. \n",
    "test_df.describe(include = 'object')"
   ]
  },
  {
   "cell_type": "markdown",
   "id": "a0edc0ce",
   "metadata": {
    "papermill": {
     "duration": 0.010708,
     "end_time": "2025-04-23T08:56:01.370469",
     "exception": false,
     "start_time": "2025-04-23T08:56:01.359761",
     "status": "completed"
    },
    "tags": []
   },
   "source": [
    "First of all, in my case of study I will remove the variable `Cabin`, because I consider that it doesn't make sense to impute all the NaN values, taking in account that 70% of the cases are null.\n",
    "Saying this, it remains what to do with `Age`and `Fare` columns, with 86 (20%) and 1 cases NaN respectively. Before jumping in that, let's take a look into the training dataset."
   ]
  },
  {
   "cell_type": "code",
   "execution_count": 9,
   "id": "466f0b98",
   "metadata": {
    "execution": {
     "iopub.execute_input": "2025-04-23T08:56:01.394424Z",
     "iopub.status.busy": "2025-04-23T08:56:01.393751Z",
     "iopub.status.idle": "2025-04-23T08:56:01.416077Z",
     "shell.execute_reply": "2025-04-23T08:56:01.415141Z"
    },
    "papermill": {
     "duration": 0.036318,
     "end_time": "2025-04-23T08:56:01.417695",
     "exception": false,
     "start_time": "2025-04-23T08:56:01.381377",
     "status": "completed"
    },
    "tags": []
   },
   "outputs": [
    {
     "data": {
      "text/html": [
       "<div>\n",
       "<style scoped>\n",
       "    .dataframe tbody tr th:only-of-type {\n",
       "        vertical-align: middle;\n",
       "    }\n",
       "\n",
       "    .dataframe tbody tr th {\n",
       "        vertical-align: top;\n",
       "    }\n",
       "\n",
       "    .dataframe thead th {\n",
       "        text-align: right;\n",
       "    }\n",
       "</style>\n",
       "<table border=\"1\" class=\"dataframe\">\n",
       "  <thead>\n",
       "    <tr style=\"text-align: right;\">\n",
       "      <th></th>\n",
       "      <th>PassengerId</th>\n",
       "      <th>Survived</th>\n",
       "      <th>Pclass</th>\n",
       "      <th>Age</th>\n",
       "      <th>SibSp</th>\n",
       "      <th>Parch</th>\n",
       "      <th>Fare</th>\n",
       "    </tr>\n",
       "  </thead>\n",
       "  <tbody>\n",
       "    <tr>\n",
       "      <th>count</th>\n",
       "      <td>891.000000</td>\n",
       "      <td>891.000000</td>\n",
       "      <td>891.000000</td>\n",
       "      <td>714.000000</td>\n",
       "      <td>891.000000</td>\n",
       "      <td>891.000000</td>\n",
       "      <td>891.000000</td>\n",
       "    </tr>\n",
       "    <tr>\n",
       "      <th>mean</th>\n",
       "      <td>446.000000</td>\n",
       "      <td>0.383838</td>\n",
       "      <td>2.308642</td>\n",
       "      <td>29.699118</td>\n",
       "      <td>0.523008</td>\n",
       "      <td>0.381594</td>\n",
       "      <td>32.204208</td>\n",
       "    </tr>\n",
       "    <tr>\n",
       "      <th>std</th>\n",
       "      <td>257.353842</td>\n",
       "      <td>0.486592</td>\n",
       "      <td>0.836071</td>\n",
       "      <td>14.526497</td>\n",
       "      <td>1.102743</td>\n",
       "      <td>0.806057</td>\n",
       "      <td>49.693429</td>\n",
       "    </tr>\n",
       "    <tr>\n",
       "      <th>min</th>\n",
       "      <td>1.000000</td>\n",
       "      <td>0.000000</td>\n",
       "      <td>1.000000</td>\n",
       "      <td>0.420000</td>\n",
       "      <td>0.000000</td>\n",
       "      <td>0.000000</td>\n",
       "      <td>0.000000</td>\n",
       "    </tr>\n",
       "    <tr>\n",
       "      <th>25%</th>\n",
       "      <td>223.500000</td>\n",
       "      <td>0.000000</td>\n",
       "      <td>2.000000</td>\n",
       "      <td>20.125000</td>\n",
       "      <td>0.000000</td>\n",
       "      <td>0.000000</td>\n",
       "      <td>7.910400</td>\n",
       "    </tr>\n",
       "    <tr>\n",
       "      <th>50%</th>\n",
       "      <td>446.000000</td>\n",
       "      <td>0.000000</td>\n",
       "      <td>3.000000</td>\n",
       "      <td>28.000000</td>\n",
       "      <td>0.000000</td>\n",
       "      <td>0.000000</td>\n",
       "      <td>14.454200</td>\n",
       "    </tr>\n",
       "    <tr>\n",
       "      <th>75%</th>\n",
       "      <td>668.500000</td>\n",
       "      <td>1.000000</td>\n",
       "      <td>3.000000</td>\n",
       "      <td>38.000000</td>\n",
       "      <td>1.000000</td>\n",
       "      <td>0.000000</td>\n",
       "      <td>31.000000</td>\n",
       "    </tr>\n",
       "    <tr>\n",
       "      <th>max</th>\n",
       "      <td>891.000000</td>\n",
       "      <td>1.000000</td>\n",
       "      <td>3.000000</td>\n",
       "      <td>80.000000</td>\n",
       "      <td>8.000000</td>\n",
       "      <td>6.000000</td>\n",
       "      <td>512.329200</td>\n",
       "    </tr>\n",
       "  </tbody>\n",
       "</table>\n",
       "</div>"
      ],
      "text/plain": [
       "       PassengerId    Survived      Pclass         Age       SibSp  \\\n",
       "count   891.000000  891.000000  891.000000  714.000000  891.000000   \n",
       "mean    446.000000    0.383838    2.308642   29.699118    0.523008   \n",
       "std     257.353842    0.486592    0.836071   14.526497    1.102743   \n",
       "min       1.000000    0.000000    1.000000    0.420000    0.000000   \n",
       "25%     223.500000    0.000000    2.000000   20.125000    0.000000   \n",
       "50%     446.000000    0.000000    3.000000   28.000000    0.000000   \n",
       "75%     668.500000    1.000000    3.000000   38.000000    1.000000   \n",
       "max     891.000000    1.000000    3.000000   80.000000    8.000000   \n",
       "\n",
       "            Parch        Fare  \n",
       "count  891.000000  891.000000  \n",
       "mean     0.381594   32.204208  \n",
       "std      0.806057   49.693429  \n",
       "min      0.000000    0.000000  \n",
       "25%      0.000000    7.910400  \n",
       "50%      0.000000   14.454200  \n",
       "75%      0.000000   31.000000  \n",
       "max      6.000000  512.329200  "
      ]
     },
     "execution_count": 9,
     "metadata": {},
     "output_type": "execute_result"
    }
   ],
   "source": [
    "train_df.describe()"
   ]
  },
  {
   "cell_type": "code",
   "execution_count": 10,
   "id": "11376ac7",
   "metadata": {
    "execution": {
     "iopub.execute_input": "2025-04-23T08:56:01.441883Z",
     "iopub.status.busy": "2025-04-23T08:56:01.441199Z",
     "iopub.status.idle": "2025-04-23T08:56:01.457999Z",
     "shell.execute_reply": "2025-04-23T08:56:01.457178Z"
    },
    "papermill": {
     "duration": 0.030245,
     "end_time": "2025-04-23T08:56:01.459327",
     "exception": false,
     "start_time": "2025-04-23T08:56:01.429082",
     "status": "completed"
    },
    "tags": []
   },
   "outputs": [
    {
     "data": {
      "text/html": [
       "<div>\n",
       "<style scoped>\n",
       "    .dataframe tbody tr th:only-of-type {\n",
       "        vertical-align: middle;\n",
       "    }\n",
       "\n",
       "    .dataframe tbody tr th {\n",
       "        vertical-align: top;\n",
       "    }\n",
       "\n",
       "    .dataframe thead th {\n",
       "        text-align: right;\n",
       "    }\n",
       "</style>\n",
       "<table border=\"1\" class=\"dataframe\">\n",
       "  <thead>\n",
       "    <tr style=\"text-align: right;\">\n",
       "      <th></th>\n",
       "      <th>Name</th>\n",
       "      <th>Sex</th>\n",
       "      <th>Ticket</th>\n",
       "      <th>Cabin</th>\n",
       "      <th>Embarked</th>\n",
       "    </tr>\n",
       "  </thead>\n",
       "  <tbody>\n",
       "    <tr>\n",
       "      <th>count</th>\n",
       "      <td>891</td>\n",
       "      <td>891</td>\n",
       "      <td>891</td>\n",
       "      <td>204</td>\n",
       "      <td>889</td>\n",
       "    </tr>\n",
       "    <tr>\n",
       "      <th>unique</th>\n",
       "      <td>891</td>\n",
       "      <td>2</td>\n",
       "      <td>681</td>\n",
       "      <td>147</td>\n",
       "      <td>3</td>\n",
       "    </tr>\n",
       "    <tr>\n",
       "      <th>top</th>\n",
       "      <td>Braund, Mr. Owen Harris</td>\n",
       "      <td>male</td>\n",
       "      <td>347082</td>\n",
       "      <td>B96 B98</td>\n",
       "      <td>S</td>\n",
       "    </tr>\n",
       "    <tr>\n",
       "      <th>freq</th>\n",
       "      <td>1</td>\n",
       "      <td>577</td>\n",
       "      <td>7</td>\n",
       "      <td>4</td>\n",
       "      <td>644</td>\n",
       "    </tr>\n",
       "  </tbody>\n",
       "</table>\n",
       "</div>"
      ],
      "text/plain": [
       "                           Name   Sex  Ticket    Cabin Embarked\n",
       "count                       891   891     891      204      889\n",
       "unique                      891     2     681      147        3\n",
       "top     Braund, Mr. Owen Harris  male  347082  B96 B98        S\n",
       "freq                          1   577       7        4      644"
      ]
     },
     "execution_count": 10,
     "metadata": {},
     "output_type": "execute_result"
    }
   ],
   "source": [
    "train_df.describe(include = 'object')"
   ]
  },
  {
   "cell_type": "markdown",
   "id": "043bfcdd",
   "metadata": {
    "papermill": {
     "duration": 0.011062,
     "end_time": "2025-04-23T08:56:01.544058",
     "exception": false,
     "start_time": "2025-04-23T08:56:01.532996",
     "status": "completed"
    },
    "tags": []
   },
   "source": [
    "### Impute Missing Values"
   ]
  },
  {
   "cell_type": "markdown",
   "id": "a0f6e1f4",
   "metadata": {
    "papermill": {
     "duration": 0.011398,
     "end_time": "2025-04-23T08:56:01.566742",
     "exception": false,
     "start_time": "2025-04-23T08:56:01.555344",
     "status": "completed"
    },
    "tags": []
   },
   "source": [
    "We have different ways to impute missing values, in my case I would apply a group based imputation, due that a backfill will not the best option, considering that our data isn't ordered."
   ]
  },
  {
   "cell_type": "code",
   "execution_count": 11,
   "id": "3fb34553",
   "metadata": {
    "execution": {
     "iopub.execute_input": "2025-04-23T08:56:01.590748Z",
     "iopub.status.busy": "2025-04-23T08:56:01.590425Z",
     "iopub.status.idle": "2025-04-23T08:56:01.610486Z",
     "shell.execute_reply": "2025-04-23T08:56:01.609752Z"
    },
    "papermill": {
     "duration": 0.034064,
     "end_time": "2025-04-23T08:56:01.612189",
     "exception": false,
     "start_time": "2025-04-23T08:56:01.578125",
     "status": "completed"
    },
    "tags": []
   },
   "outputs": [],
   "source": [
    "train_df['Age'] =train_df.groupby(['Pclass','Sex'])['Age'].transform(lambda x: x.fillna(x.median()))\n",
    "#We apply the same for the testing data\n",
    "\n",
    "test_df['Age'] =test_df.groupby(['Pclass','Sex'])['Age'].transform(lambda x: x.fillna(x.median()))"
   ]
  },
  {
   "cell_type": "markdown",
   "id": "73df610a",
   "metadata": {
    "papermill": {
     "duration": 0.011294,
     "end_time": "2025-04-23T08:56:01.635216",
     "exception": false,
     "start_time": "2025-04-23T08:56:01.623922",
     "status": "completed"
    },
    "tags": []
   },
   "source": [
    "Alright, we said before that column `Cabin` will be deleted from our dataset, based that 70% of the values are NaN. On the other hand, we have to other remaining columns with missing values as well, `Fare` with one missing value and `Embarked` in the training dataset with 2 missing values. In both cases, we can affirm that it represent less than 5% of missing values; so for `Embarked` we can impute the mode (categorical variable) and for `Fare` let`s see:"
   ]
  },
  {
   "cell_type": "code",
   "execution_count": 12,
   "id": "89ad237a",
   "metadata": {
    "execution": {
     "iopub.execute_input": "2025-04-23T08:56:01.659288Z",
     "iopub.status.busy": "2025-04-23T08:56:01.658999Z",
     "iopub.status.idle": "2025-04-23T08:56:01.666671Z",
     "shell.execute_reply": "2025-04-23T08:56:01.665635Z"
    },
    "papermill": {
     "duration": 0.021398,
     "end_time": "2025-04-23T08:56:01.668083",
     "exception": false,
     "start_time": "2025-04-23T08:56:01.646685",
     "status": "completed"
    },
    "tags": []
   },
   "outputs": [],
   "source": [
    "train_df.drop(columns=['Cabin'],inplace=True)\n",
    "test_df.drop(columns=['Cabin'],inplace=True)"
   ]
  },
  {
   "cell_type": "code",
   "execution_count": 13,
   "id": "9cf32efe",
   "metadata": {
    "execution": {
     "iopub.execute_input": "2025-04-23T08:56:01.693395Z",
     "iopub.status.busy": "2025-04-23T08:56:01.693104Z",
     "iopub.status.idle": "2025-04-23T08:56:01.699072Z",
     "shell.execute_reply": "2025-04-23T08:56:01.698163Z"
    },
    "papermill": {
     "duration": 0.020107,
     "end_time": "2025-04-23T08:56:01.700549",
     "exception": false,
     "start_time": "2025-04-23T08:56:01.680442",
     "status": "completed"
    },
    "tags": []
   },
   "outputs": [],
   "source": [
    "train_df['Embarked']= train_df['Embarked'].fillna(train_df['Embarked'].mode()[0])"
   ]
  },
  {
   "cell_type": "code",
   "execution_count": 14,
   "id": "b087619b",
   "metadata": {
    "execution": {
     "iopub.execute_input": "2025-04-23T08:56:01.725073Z",
     "iopub.status.busy": "2025-04-23T08:56:01.724485Z",
     "iopub.status.idle": "2025-04-23T08:56:01.738171Z",
     "shell.execute_reply": "2025-04-23T08:56:01.737221Z"
    },
    "papermill": {
     "duration": 0.027383,
     "end_time": "2025-04-23T08:56:01.739559",
     "exception": false,
     "start_time": "2025-04-23T08:56:01.712176",
     "status": "completed"
    },
    "tags": []
   },
   "outputs": [
    {
     "name": "stderr",
     "output_type": "stream",
     "text": [
      "/usr/local/lib/python3.11/dist-packages/pandas/io/formats/format.py:1458: RuntimeWarning: invalid value encountered in greater\n",
      "  has_large_values = (abs_vals > 1e6).any()\n",
      "/usr/local/lib/python3.11/dist-packages/pandas/io/formats/format.py:1459: RuntimeWarning: invalid value encountered in less\n",
      "  has_small_values = ((abs_vals < 10 ** (-self.digits)) & (abs_vals > 0)).any()\n",
      "/usr/local/lib/python3.11/dist-packages/pandas/io/formats/format.py:1459: RuntimeWarning: invalid value encountered in greater\n",
      "  has_small_values = ((abs_vals < 10 ** (-self.digits)) & (abs_vals > 0)).any()\n"
     ]
    },
    {
     "data": {
      "text/html": [
       "<div>\n",
       "<style scoped>\n",
       "    .dataframe tbody tr th:only-of-type {\n",
       "        vertical-align: middle;\n",
       "    }\n",
       "\n",
       "    .dataframe tbody tr th {\n",
       "        vertical-align: top;\n",
       "    }\n",
       "\n",
       "    .dataframe thead th {\n",
       "        text-align: right;\n",
       "    }\n",
       "</style>\n",
       "<table border=\"1\" class=\"dataframe\">\n",
       "  <thead>\n",
       "    <tr style=\"text-align: right;\">\n",
       "      <th></th>\n",
       "      <th>PassengerId</th>\n",
       "      <th>Pclass</th>\n",
       "      <th>Name</th>\n",
       "      <th>Sex</th>\n",
       "      <th>Age</th>\n",
       "      <th>SibSp</th>\n",
       "      <th>Parch</th>\n",
       "      <th>Ticket</th>\n",
       "      <th>Fare</th>\n",
       "      <th>Embarked</th>\n",
       "    </tr>\n",
       "  </thead>\n",
       "  <tbody>\n",
       "    <tr>\n",
       "      <th>152</th>\n",
       "      <td>1044</td>\n",
       "      <td>3</td>\n",
       "      <td>Storey, Mr. Thomas</td>\n",
       "      <td>male</td>\n",
       "      <td>60.5</td>\n",
       "      <td>0</td>\n",
       "      <td>0</td>\n",
       "      <td>3701</td>\n",
       "      <td>NaN</td>\n",
       "      <td>S</td>\n",
       "    </tr>\n",
       "  </tbody>\n",
       "</table>\n",
       "</div>"
      ],
      "text/plain": [
       "     PassengerId  Pclass                Name   Sex   Age  SibSp  Parch Ticket  \\\n",
       "152         1044       3  Storey, Mr. Thomas  male  60.5      0      0   3701   \n",
       "\n",
       "     Fare Embarked  \n",
       "152   NaN        S  "
      ]
     },
     "execution_count": 14,
     "metadata": {},
     "output_type": "execute_result"
    }
   ],
   "source": [
    "#For Fare, at first I prefer to check the row to see if there are any other columns with NaN\n",
    "\n",
    "test_df[test_df['Fare'].isnull()]"
   ]
  },
  {
   "cell_type": "markdown",
   "id": "577975c5",
   "metadata": {
    "papermill": {
     "duration": 0.013073,
     "end_time": "2025-04-23T08:56:01.764449",
     "exception": false,
     "start_time": "2025-04-23T08:56:01.751376",
     "status": "completed"
    },
    "tags": []
   },
   "source": [
    "For that row, we don't have other missing values, so let's proceed to imputed it with the median"
   ]
  },
  {
   "cell_type": "code",
   "execution_count": 15,
   "id": "5f0489cf",
   "metadata": {
    "execution": {
     "iopub.execute_input": "2025-04-23T08:56:01.789423Z",
     "iopub.status.busy": "2025-04-23T08:56:01.789111Z",
     "iopub.status.idle": "2025-04-23T08:56:01.794172Z",
     "shell.execute_reply": "2025-04-23T08:56:01.793285Z"
    },
    "papermill": {
     "duration": 0.019247,
     "end_time": "2025-04-23T08:56:01.795660",
     "exception": false,
     "start_time": "2025-04-23T08:56:01.776413",
     "status": "completed"
    },
    "tags": []
   },
   "outputs": [],
   "source": [
    "test_df['Fare']= test_df['Fare'].fillna(test_df['Fare'].median())"
   ]
  },
  {
   "cell_type": "markdown",
   "id": "ef8b7da3",
   "metadata": {
    "papermill": {
     "duration": 0.011441,
     "end_time": "2025-04-23T08:56:01.819148",
     "exception": false,
     "start_time": "2025-04-23T08:56:01.807707",
     "status": "completed"
    },
    "tags": []
   },
   "source": [
    "Let's have a quicky check that we don't have any null values in our dataset"
   ]
  },
  {
   "cell_type": "code",
   "execution_count": 16,
   "id": "808ab257",
   "metadata": {
    "execution": {
     "iopub.execute_input": "2025-04-23T08:56:01.844441Z",
     "iopub.status.busy": "2025-04-23T08:56:01.843523Z",
     "iopub.status.idle": "2025-04-23T08:56:01.852045Z",
     "shell.execute_reply": "2025-04-23T08:56:01.850985Z"
    },
    "papermill": {
     "duration": 0.02241,
     "end_time": "2025-04-23T08:56:01.853326",
     "exception": false,
     "start_time": "2025-04-23T08:56:01.830916",
     "status": "completed"
    },
    "tags": []
   },
   "outputs": [
    {
     "name": "stdout",
     "output_type": "stream",
     "text": [
      "PassengerId    0\n",
      "Pclass         0\n",
      "Name           0\n",
      "Sex            0\n",
      "Age            0\n",
      "SibSp          0\n",
      "Parch          0\n",
      "Ticket         0\n",
      "Fare           0\n",
      "Embarked       0\n",
      "dtype: int64\n",
      "PassengerId    0\n",
      "Survived       0\n",
      "Pclass         0\n",
      "Name           0\n",
      "Sex            0\n",
      "Age            0\n",
      "SibSp          0\n",
      "Parch          0\n",
      "Ticket         0\n",
      "Fare           0\n",
      "Embarked       0\n",
      "dtype: int64\n"
     ]
    }
   ],
   "source": [
    "print(test_df.isnull().sum())\n",
    "print(train_df.isnull().sum())"
   ]
  },
  {
   "cell_type": "markdown",
   "id": "3eb677ba",
   "metadata": {
    "papermill": {
     "duration": 0.011354,
     "end_time": "2025-04-23T08:56:01.876458",
     "exception": false,
     "start_time": "2025-04-23T08:56:01.865104",
     "status": "completed"
    },
    "tags": []
   },
   "source": [
    "Amazing! Before jumping into Modeling, it could be nice to analyze a little deeper our features. First of all, we can check if the `target`is a balanced class (considering that we are under a classification problem - survived or not)"
   ]
  },
  {
   "cell_type": "markdown",
   "id": "8b1b520c",
   "metadata": {
    "papermill": {
     "duration": 0.01136,
     "end_time": "2025-04-23T08:56:01.899318",
     "exception": false,
     "start_time": "2025-04-23T08:56:01.887958",
     "status": "completed"
    },
    "tags": []
   },
   "source": [
    "In the next plot, we see that around the 60% of the passengers didn't survive"
   ]
  },
  {
   "cell_type": "code",
   "execution_count": 17,
   "id": "ff6b72f4",
   "metadata": {
    "execution": {
     "iopub.execute_input": "2025-04-23T08:56:01.923940Z",
     "iopub.status.busy": "2025-04-23T08:56:01.923622Z",
     "iopub.status.idle": "2025-04-23T08:56:02.147884Z",
     "shell.execute_reply": "2025-04-23T08:56:02.146989Z"
    },
    "papermill": {
     "duration": 0.238541,
     "end_time": "2025-04-23T08:56:02.149559",
     "exception": false,
     "start_time": "2025-04-23T08:56:01.911018",
     "status": "completed"
    },
    "tags": []
   },
   "outputs": [
    {
     "data": {
      "image/png": "[encoded data removed]",
      "text/plain": [
       "<Figure size 640x480 with 1 Axes>"
      ]
     },
     "metadata": {},
     "output_type": "display_data"
    },
    {
     "name": "stdout",
     "output_type": "stream",
     "text": [
      "Survived\n",
      "0    0.616162\n",
      "1    0.383838\n",
      "Name: proportion, dtype: float64\n"
     ]
    }
   ],
   "source": [
    "sns.countplot(data = train_df , x = 'Survived')\n",
    "plt.title('Survival count')\n",
    "plt.xlabel(\"Survived (0 = No, 1 = Yes)\")\n",
    "plt.ylabel(\"Count\")\n",
    "plt.show()\n",
    "\n",
    "print(train_df['Survived'].value_counts(normalize=True))    #with normalize=True it returns the percentage, otherwise just the count"
   ]
  },
  {
   "cell_type": "markdown",
   "id": "cf2a8dc5",
   "metadata": {
    "papermill": {
     "duration": 0.011894,
     "end_time": "2025-04-23T08:56:02.173848",
     "exception": false,
     "start_time": "2025-04-23T08:56:02.161954",
     "status": "completed"
    },
    "tags": []
   },
   "source": [
    "Checking the survival based on the gender, the women stacked a better chance to survive against the males. "
   ]
  },
  {
   "cell_type": "code",
   "execution_count": 18,
   "id": "97792780",
   "metadata": {
    "execution": {
     "iopub.execute_input": "2025-04-23T08:56:02.200066Z",
     "iopub.status.busy": "2025-04-23T08:56:02.199191Z",
     "iopub.status.idle": "2025-04-23T08:56:02.348458Z",
     "shell.execute_reply": "2025-04-23T08:56:02.347535Z"
    },
    "papermill": {
     "duration": 0.164095,
     "end_time": "2025-04-23T08:56:02.350063",
     "exception": false,
     "start_time": "2025-04-23T08:56:02.185968",
     "status": "completed"
    },
    "tags": []
   },
   "outputs": [
    {
     "data": {
      "image/png": "[encoded data removed]",
      "text/plain": [
       "<Figure size 640x480 with 1 Axes>"
      ]
     },
     "metadata": {},
     "output_type": "display_data"
    }
   ],
   "source": [
    "sns.countplot(data=train_df, x='Sex', hue='Survived')\n",
    "plt.title(\"Survival by Sex\")\n",
    "plt.show()"
   ]
  },
  {
   "cell_type": "markdown",
   "id": "b2f00f0a",
   "metadata": {
    "papermill": {
     "duration": 0.01214,
     "end_time": "2025-04-23T08:56:02.374981",
     "exception": false,
     "start_time": "2025-04-23T08:56:02.362841",
     "status": "completed"
    },
    "tags": []
   },
   "source": [
    "For the next one, is something that we suspect; higher class has a better chance to survive"
   ]
  },
  {
   "cell_type": "code",
   "execution_count": 19,
   "id": "511f8e62",
   "metadata": {
    "execution": {
     "iopub.execute_input": "2025-04-23T08:56:02.402041Z",
     "iopub.status.busy": "2025-04-23T08:56:02.401228Z",
     "iopub.status.idle": "2025-04-23T08:56:02.573113Z",
     "shell.execute_reply": "2025-04-23T08:56:02.572250Z"
    },
    "papermill": {
     "duration": 0.187102,
     "end_time": "2025-04-23T08:56:02.574624",
     "exception": false,
     "start_time": "2025-04-23T08:56:02.387522",
     "status": "completed"
    },
    "tags": []
   },
   "outputs": [
    {
     "data": {
      "image/png": "[encoded data removed]",
      "text/plain": [
       "<Figure size 640x480 with 1 Axes>"
      ]
     },
     "metadata": {},
     "output_type": "display_data"
    }
   ],
   "source": [
    "sns.countplot(data=train_df, x='Pclass', hue='Survived')\n",
    "plt.title(\"Survival by Passenger Class\")\n",
    "plt.show()"
   ]
  },
  {
   "cell_type": "markdown",
   "id": "d1ae67c4",
   "metadata": {
    "papermill": {
     "duration": 0.01249,
     "end_time": "2025-04-23T08:56:02.600330",
     "exception": false,
     "start_time": "2025-04-23T08:56:02.587840",
     "status": "completed"
    },
    "tags": []
   },
   "source": [
    "Also, we can linked the information that describe() provided attached a boxplot. We can say that the variable `Age` doesn't have a strong relationship with survival. This doesn't imply that it might still interact with others."
   ]
  },
  {
   "cell_type": "code",
   "execution_count": 20,
   "id": "d5667ec3",
   "metadata": {
    "execution": {
     "iopub.execute_input": "2025-04-23T08:56:02.627079Z",
     "iopub.status.busy": "2025-04-23T08:56:02.626766Z",
     "iopub.status.idle": "2025-04-23T08:56:02.770708Z",
     "shell.execute_reply": "2025-04-23T08:56:02.769746Z"
    },
    "papermill": {
     "duration": 0.159405,
     "end_time": "2025-04-23T08:56:02.772487",
     "exception": false,
     "start_time": "2025-04-23T08:56:02.613082",
     "status": "completed"
    },
    "tags": []
   },
   "outputs": [
    {
     "data": {
      "text/plain": [
       "<Axes: xlabel='Survived', ylabel='Age'>"
      ]
     },
     "execution_count": 20,
     "metadata": {},
     "output_type": "execute_result"
    },
    {
     "data": {
      "image/png": "[encoded data removed]",
      "text/plain": [
       "<Figure size 640x480 with 1 Axes>"
      ]
     },
     "metadata": {},
     "output_type": "display_data"
    }
   ],
   "source": [
    "sns.boxplot(data=train_df, x='Survived', y='Age')"
   ]
  },
  {
   "cell_type": "markdown",
   "id": "dc06793d",
   "metadata": {
    "papermill": {
     "duration": 0.012979,
     "end_time": "2025-04-23T08:56:02.799230",
     "exception": false,
     "start_time": "2025-04-23T08:56:02.786251",
     "status": "completed"
    },
    "tags": []
   },
   "source": [
    "With the following code block we can tell if the two groups are different, so we got a 7.5% chance that we'd see this difference in age even if survivors and non-survivors are actually the same on average"
   ]
  },
  {
   "cell_type": "code",
   "execution_count": 21,
   "id": "8be5843b",
   "metadata": {
    "execution": {
     "iopub.execute_input": "2025-04-23T08:56:02.826757Z",
     "iopub.status.busy": "2025-04-23T08:56:02.826394Z",
     "iopub.status.idle": "2025-04-23T08:56:02.837662Z",
     "shell.execute_reply": "2025-04-23T08:56:02.836842Z"
    },
    "papermill": {
     "duration": 0.026989,
     "end_time": "2025-04-23T08:56:02.839206",
     "exception": false,
     "start_time": "2025-04-23T08:56:02.812217",
     "status": "completed"
    },
    "tags": []
   },
   "outputs": [
    {
     "data": {
      "text/plain": [
       "TtestResult(statistic=1.7795858955791217, pvalue=0.07548530586360941, df=889.0)"
      ]
     },
     "execution_count": 21,
     "metadata": {},
     "output_type": "execute_result"
    }
   ],
   "source": [
    "group1 = train_df[train_df['Survived'] == 0]['Age'].dropna()\n",
    "group2 = train_df[train_df['Survived'] == 1]['Age'].dropna()\n",
    "\n",
    "ttest_ind(group1, group2)"
   ]
  },
  {
   "cell_type": "markdown",
   "id": "674b516e",
   "metadata": {
    "papermill": {
     "duration": 0.013128,
     "end_time": "2025-04-23T08:56:02.865894",
     "exception": false,
     "start_time": "2025-04-23T08:56:02.852766",
     "status": "completed"
    },
    "tags": []
   },
   "source": [
    "Another interesting relationship that we can visualize is between Age and Pclass. To do that, I consider that it could be usefull to group the Age intro groups."
   ]
  },
  {
   "cell_type": "code",
   "execution_count": 22,
   "id": "6e199413",
   "metadata": {
    "execution": {
     "iopub.execute_input": "2025-04-23T08:56:02.894050Z",
     "iopub.status.busy": "2025-04-23T08:56:02.893751Z",
     "iopub.status.idle": "2025-04-23T08:56:02.903782Z",
     "shell.execute_reply": "2025-04-23T08:56:02.902895Z"
    },
    "papermill": {
     "duration": 0.025962,
     "end_time": "2025-04-23T08:56:02.905385",
     "exception": false,
     "start_time": "2025-04-23T08:56:02.879423",
     "status": "completed"
    },
    "tags": []
   },
   "outputs": [],
   "source": [
    "bins=[0,10,18,25,35,65,80]\n",
    "labels=['Newborn','Child','Teen','Young Adult','Adult','Senior']\n",
    "train_df['Age_groups'] = pd.cut(train_df['Age'], bins=bins, labels=labels)\n",
    "test_df['Age_groups'] = pd.cut(train_df['Age'], bins=bins, labels=labels)"
   ]
  },
  {
   "cell_type": "markdown",
   "id": "c30f3b4e",
   "metadata": {
    "papermill": {
     "duration": 0.013061,
     "end_time": "2025-04-23T08:56:02.931935",
     "exception": false,
     "start_time": "2025-04-23T08:56:02.918874",
     "status": "completed"
    },
    "tags": []
   },
   "source": [
    "We clearly can see that Teen group belongs to 3rd class, opposite for Adult group that belongs to group 1st."
   ]
  },
  {
   "cell_type": "code",
   "execution_count": 23,
   "id": "6ea871b6",
   "metadata": {
    "execution": {
     "iopub.execute_input": "2025-04-23T08:56:02.959936Z",
     "iopub.status.busy": "2025-04-23T08:56:02.959575Z",
     "iopub.status.idle": "2025-04-23T08:56:03.244111Z",
     "shell.execute_reply": "2025-04-23T08:56:03.243233Z"
    },
    "papermill": {
     "duration": 0.300175,
     "end_time": "2025-04-23T08:56:03.245506",
     "exception": false,
     "start_time": "2025-04-23T08:56:02.945331",
     "status": "completed"
    },
    "tags": []
   },
   "outputs": [
    {
     "name": "stderr",
     "output_type": "stream",
     "text": [
      "/tmp/ipykernel_13/2602654337.py:2: FutureWarning: The default of observed=False is deprecated and will be changed to True in a future version of pandas. Pass observed=False to retain current behavior or observed=True to adopt the future default and silence this warning.\n",
      "  age_pclass_counts = train_df.groupby(['Age_groups', 'Pclass']).size().reset_index(name='Count')\n",
      "/usr/local/lib/python3.11/dist-packages/seaborn/categorical.py:641: FutureWarning: The default of observed=False is deprecated and will be changed to True in a future version of pandas. Pass observed=False to retain current behavior or observed=True to adopt the future default and silence this warning.\n",
      "  grouped_vals = vals.groupby(grouper)\n",
      "/usr/local/lib/python3.11/dist-packages/seaborn/categorical.py:641: FutureWarning: The default of observed=False is deprecated and will be changed to True in a future version of pandas. Pass observed=False to retain current behavior or observed=True to adopt the future default and silence this warning.\n",
      "  grouped_vals = vals.groupby(grouper)\n"
     ]
    },
    {
     "data": {
      "image/png": "[encoded data removed]",
      "text/plain": [
       "<Figure size 1000x600 with 1 Axes>"
      ]
     },
     "metadata": {},
     "output_type": "display_data"
    }
   ],
   "source": [
    "# Count how many passengers in each AgeGroup and Pclass\n",
    "age_pclass_counts = train_df.groupby(['Age_groups', 'Pclass']).size().reset_index(name='Count')\n",
    "\n",
    "plt.figure(figsize=(10, 6))\n",
    "sns.barplot(data=age_pclass_counts, x='Age_groups', y='Count', hue='Pclass', palette='Set2')\n",
    "plt.title('Passenger Class Distribution by Age Group')\n",
    "plt.ylabel('Number of Passengers')\n",
    "plt.xlabel('Age Group')\n",
    "plt.legend(title='Pclass')\n",
    "plt.tight_layout()\n",
    "plt.show()"
   ]
  },
  {
   "cell_type": "markdown",
   "id": "e6d65528",
   "metadata": {
    "papermill": {
     "duration": 0.014803,
     "end_time": "2025-04-23T08:56:03.274766",
     "exception": false,
     "start_time": "2025-04-23T08:56:03.259963",
     "status": "completed"
    },
    "tags": []
   },
   "source": [
    "The next step to consider is a correlation matrix to have a quick check before doing feature Engineering (in case is needed)"
   ]
  },
  {
   "cell_type": "code",
   "execution_count": 24,
   "id": "d24bdd36",
   "metadata": {
    "execution": {
     "iopub.execute_input": "2025-04-23T08:56:03.304513Z",
     "iopub.status.busy": "2025-04-23T08:56:03.304191Z",
     "iopub.status.idle": "2025-04-23T08:56:03.635760Z",
     "shell.execute_reply": "2025-04-23T08:56:03.634810Z"
    },
    "papermill": {
     "duration": 0.348253,
     "end_time": "2025-04-23T08:56:03.637613",
     "exception": false,
     "start_time": "2025-04-23T08:56:03.289360",
     "status": "completed"
    },
    "tags": []
   },
   "outputs": [
    {
     "data": {
      "image/png": "[encoded data removed]",
      "text/plain": [
       "<Figure size 800x600 with 2 Axes>"
      ]
     },
     "metadata": {},
     "output_type": "display_data"
    }
   ],
   "source": [
    "titanic_corr = train_df[['Survived', 'Age', 'Fare', 'Pclass', 'SibSp', 'Parch','PassengerId']].corr()\n",
    "\n",
    "plt.figure(figsize=(8,6))\n",
    "sns.heatmap(titanic_corr, annot=True, cmap='coolwarm', fmt=\".2f\")\n",
    "plt.title(\"Correlation Matrix\")\n",
    "plt.show()"
   ]
  },
  {
   "cell_type": "markdown",
   "id": "c86c4e3f",
   "metadata": {
    "papermill": {
     "duration": 0.015094,
     "end_time": "2025-04-23T08:56:03.668565",
     "exception": false,
     "start_time": "2025-04-23T08:56:03.653471",
     "status": "completed"
    },
    "tags": []
   },
   "source": [
    "Let's roll on for categorical variables, and plot a Cramers'V correlation! We see that as we describe before, there is a correlation between Sex and Survival. Also, there is a less correlation but still with PClass, that it is true because in the barplot before 1st class has a better chance to survive. "
   ]
  },
  {
   "cell_type": "code",
   "execution_count": 25,
   "id": "87635ce6",
   "metadata": {
    "execution": {
     "iopub.execute_input": "2025-04-23T08:56:03.701058Z",
     "iopub.status.busy": "2025-04-23T08:56:03.700740Z",
     "iopub.status.idle": "2025-04-23T08:56:04.099466Z",
     "shell.execute_reply": "2025-04-23T08:56:04.098624Z"
    },
    "papermill": {
     "duration": 0.416774,
     "end_time": "2025-04-23T08:56:04.100957",
     "exception": false,
     "start_time": "2025-04-23T08:56:03.684183",
     "status": "completed"
    },
    "tags": []
   },
   "outputs": [
    {
     "data": {
      "image/png": "[encoded data removed]",
      "text/plain": [
       "<Figure size 600x400 with 2 Axes>"
      ]
     },
     "metadata": {},
     "output_type": "display_data"
    }
   ],
   "source": [
    "# Function to compute Cramér's V\n",
    "def cramers_v(confusion_matrix):\n",
    "    chi2 = chi2_contingency(confusion_matrix)[0]\n",
    "    n = confusion_matrix.sum().sum()\n",
    "    phi2 = chi2 / n\n",
    "    r, k = confusion_matrix.shape\n",
    "    phi2_corr = max(0, phi2 - ((k-1)*(r-1))/(n-1))    \n",
    "    r_corr = r - ((r-1)**2)/(n-1)\n",
    "    k_corr = k - ((k-1)**2)/(n-1)\n",
    "    return np.sqrt(phi2_corr / min((k_corr-1), (r_corr-1)))\n",
    "\n",
    "# Choose your categorical columns\n",
    "categorical_cols = ['Survived','Sex', 'Embarked', 'Pclass','Age_groups'] \n",
    "n = len(categorical_cols)\n",
    "\n",
    "# Create the Cramér’s V matrix\n",
    "cramer_matrix = np.zeros((n, n))\n",
    "\n",
    "for i in range(n):\n",
    "    for j in range(n):\n",
    "        confusion = pd.crosstab(train_df[categorical_cols[i]], train_df[categorical_cols[j]])\n",
    "        cramer_matrix[i, j] = cramers_v(confusion)\n",
    "\n",
    "# Turn into DataFrame for heatmap\n",
    "cramer_df = pd.DataFrame(cramer_matrix, index=categorical_cols, columns=categorical_cols)\n",
    "\n",
    "# Plot heatmap\n",
    "plt.figure(figsize=(6, 4))\n",
    "sns.heatmap(cramer_df, annot=True, cmap='coolwarm', vmin=0, vmax=1)\n",
    "plt.title(\"Cramér's V Correlation (Categorical)\")\n",
    "plt.show()"
   ]
  },
  {
   "cell_type": "markdown",
   "id": "a3a75b97",
   "metadata": {
    "papermill": {
     "duration": 0.016102,
     "end_time": "2025-04-23T08:56:04.133958",
     "exception": false,
     "start_time": "2025-04-23T08:56:04.117856",
     "status": "completed"
    },
    "tags": []
   },
   "source": [
    "It would be interesting to bin feature `Fare` in the same way that we did with `Age` based that on the previous Matrix, it has a slighty correlacion with the target, so let's proceed to do that!"
   ]
  },
  {
   "cell_type": "code",
   "execution_count": 26,
   "id": "90da9af8",
   "metadata": {
    "execution": {
     "iopub.execute_input": "2025-04-23T08:56:04.167517Z",
     "iopub.status.busy": "2025-04-23T08:56:04.167209Z",
     "iopub.status.idle": "2025-04-23T08:56:04.175973Z",
     "shell.execute_reply": "2025-04-23T08:56:04.175250Z"
    },
    "papermill": {
     "duration": 0.027489,
     "end_time": "2025-04-23T08:56:04.177439",
     "exception": false,
     "start_time": "2025-04-23T08:56:04.149950",
     "status": "completed"
    },
    "tags": []
   },
   "outputs": [],
   "source": [
    "bins=[0,14,30,520]\n",
    "labels=['low','medium','rich']\n",
    "train_df['Fare_groups'] = pd.cut(train_df['Fare'], bins=bins, labels=labels)\n",
    "test_df['Fare_groups'] = pd.cut(test_df['Fare'], bins=bins, labels=labels)"
   ]
  },
  {
   "cell_type": "code",
   "execution_count": 27,
   "id": "257b525e",
   "metadata": {
    "execution": {
     "iopub.execute_input": "2025-04-23T08:56:04.211018Z",
     "iopub.status.busy": "2025-04-23T08:56:04.210724Z",
     "iopub.status.idle": "2025-04-23T08:56:04.556501Z",
     "shell.execute_reply": "2025-04-23T08:56:04.555661Z"
    },
    "papermill": {
     "duration": 0.364308,
     "end_time": "2025-04-23T08:56:04.557919",
     "exception": false,
     "start_time": "2025-04-23T08:56:04.193611",
     "status": "completed"
    },
    "tags": []
   },
   "outputs": [
    {
     "name": "stderr",
     "output_type": "stream",
     "text": [
      "/tmp/ipykernel_13/405983843.py:2: FutureWarning: The default of observed=False is deprecated and will be changed to True in a future version of pandas. Pass observed=False to retain current behavior or observed=True to adopt the future default and silence this warning.\n",
      "  age_pclass_counts = train_df.groupby(['Fare_groups', 'Survived']).size().reset_index(name='Count')\n",
      "/usr/local/lib/python3.11/dist-packages/seaborn/categorical.py:641: FutureWarning: The default of observed=False is deprecated and will be changed to True in a future version of pandas. Pass observed=False to retain current behavior or observed=True to adopt the future default and silence this warning.\n",
      "  grouped_vals = vals.groupby(grouper)\n",
      "/usr/local/lib/python3.11/dist-packages/seaborn/categorical.py:641: FutureWarning: The default of observed=False is deprecated and will be changed to True in a future version of pandas. Pass observed=False to retain current behavior or observed=True to adopt the future default and silence this warning.\n",
      "  grouped_vals = vals.groupby(grouper)\n"
     ]
    },
    {
     "data": {
      "image/png": "[encoded data removed]",
      "text/plain": [
       "<Figure size 1000x600 with 1 Axes>"
      ]
     },
     "metadata": {},
     "output_type": "display_data"
    }
   ],
   "source": [
    "# Count how many passengers in each AgeGroup and Pclass\n",
    "age_pclass_counts = train_df.groupby(['Fare_groups', 'Survived']).size().reset_index(name='Count')\n",
    "\n",
    "plt.figure(figsize=(10, 6))\n",
    "sns.barplot(data=age_pclass_counts, x='Fare_groups', y='Count', hue='Survived', palette='Set2')\n",
    "plt.title('Passenger Class Distribution by Fare Group')\n",
    "plt.ylabel('Number of Passengers')\n",
    "plt.xlabel('Age Group')\n",
    "plt.legend(title='Pclass')\n",
    "plt.tight_layout()\n",
    "plt.show()"
   ]
  },
  {
   "cell_type": "markdown",
   "id": "457b37b6",
   "metadata": {
    "papermill": {
     "duration": 0.016389,
     "end_time": "2025-04-23T08:56:04.591110",
     "exception": false,
     "start_time": "2025-04-23T08:56:04.574721",
     "status": "completed"
    },
    "tags": []
   },
   "source": [
    "We can replicate again the Cramer's V and see how the new features interact with the target."
   ]
  },
  {
   "cell_type": "code",
   "execution_count": 28,
   "id": "31823a83",
   "metadata": {
    "execution": {
     "iopub.execute_input": "2025-04-23T08:56:04.625695Z",
     "iopub.status.busy": "2025-04-23T08:56:04.625325Z",
     "iopub.status.idle": "2025-04-23T08:56:05.132999Z",
     "shell.execute_reply": "2025-04-23T08:56:05.132095Z"
    },
    "papermill": {
     "duration": 0.527069,
     "end_time": "2025-04-23T08:56:05.134682",
     "exception": false,
     "start_time": "2025-04-23T08:56:04.607613",
     "status": "completed"
    },
    "tags": []
   },
   "outputs": [
    {
     "data": {
      "image/png": "[encoded data removed]",
      "text/plain": [
       "<Figure size 600x400 with 2 Axes>"
      ]
     },
     "metadata": {},
     "output_type": "display_data"
    }
   ],
   "source": [
    "# Choose your categorical columns\n",
    "categorical_cols = ['Survived','Sex', 'Embarked', 'Pclass','Age_groups','Fare_groups'] \n",
    "n = len(categorical_cols)\n",
    "\n",
    "# Create the Cramér’s V matrix\n",
    "cramer_matrix = np.zeros((n, n))\n",
    "\n",
    "for i in range(n):\n",
    "    for j in range(n):\n",
    "        confusion = pd.crosstab(train_df[categorical_cols[i]], train_df[categorical_cols[j]])\n",
    "        cramer_matrix[i, j] = cramers_v(confusion)\n",
    "\n",
    "# Turn into DataFrame for heatmap\n",
    "cramer_df = pd.DataFrame(cramer_matrix, index=categorical_cols, columns=categorical_cols)\n",
    "\n",
    "# Plot heatmap\n",
    "plt.figure(figsize=(6, 4))\n",
    "sns.heatmap(cramer_df, annot=True, cmap='coolwarm', vmin=0, vmax=1)\n",
    "plt.title(\"Cramér's V Correlation (Categorical)\")\n",
    "plt.show()"
   ]
  },
  {
   "cell_type": "markdown",
   "id": "c96ef2f8",
   "metadata": {
    "papermill": {
     "duration": 0.017584,
     "end_time": "2025-04-23T08:56:05.170677",
     "exception": false,
     "start_time": "2025-04-23T08:56:05.153093",
     "status": "completed"
    },
    "tags": []
   },
   "source": [
    "For this competition I chose RandomForestClassification, and based that we can use categorical variables I prefer to exclude Age and Fare, and include the new ones in the study.\n",
    "After checking our metrics, I would perform Cross validation with GridSearch."
   ]
  },
  {
   "cell_type": "markdown",
   "id": "163f2c78",
   "metadata": {
    "papermill": {
     "duration": 0.017582,
     "end_time": "2025-04-23T08:56:05.205743",
     "exception": false,
     "start_time": "2025-04-23T08:56:05.188161",
     "status": "completed"
    },
    "tags": []
   },
   "source": [
    "Let's started with CatBoost first, based that it handle categorical variables and no need to encode them. But before that, let's double check the format of each column."
   ]
  },
  {
   "cell_type": "markdown",
   "id": "be898406",
   "metadata": {
    "papermill": {
     "duration": 0.017451,
     "end_time": "2025-04-23T08:56:05.240783",
     "exception": false,
     "start_time": "2025-04-23T08:56:05.223332",
     "status": "completed"
    },
    "tags": []
   },
   "source": [
    "Before proceed with the algorithm, we can see that for the new column `Fare_groups' it cointains some missing value."
   ]
  },
  {
   "cell_type": "code",
   "execution_count": 29,
   "id": "89ccee65",
   "metadata": {
    "execution": {
     "iopub.execute_input": "2025-04-23T08:56:05.277532Z",
     "iopub.status.busy": "2025-04-23T08:56:05.277205Z",
     "iopub.status.idle": "2025-04-23T08:56:05.292633Z",
     "shell.execute_reply": "2025-04-23T08:56:05.291549Z"
    },
    "papermill": {
     "duration": 0.035852,
     "end_time": "2025-04-23T08:56:05.294044",
     "exception": false,
     "start_time": "2025-04-23T08:56:05.258192",
     "status": "completed"
    },
    "tags": []
   },
   "outputs": [
    {
     "name": "stdout",
     "output_type": "stream",
     "text": [
      "<class 'pandas.core.frame.DataFrame'>\n",
      "RangeIndex: 891 entries, 0 to 890\n",
      "Data columns (total 13 columns):\n",
      " #   Column       Non-Null Count  Dtype   \n",
      "---  ------       --------------  -----   \n",
      " 0   PassengerId  891 non-null    int64   \n",
      " 1   Survived     891 non-null    int64   \n",
      " 2   Pclass       891 non-null    int64   \n",
      " 3   Name         891 non-null    object  \n",
      " 4   Sex          891 non-null    object  \n",
      " 5   Age          891 non-null    float64 \n",
      " 6   SibSp        891 non-null    int64   \n",
      " 7   Parch        891 non-null    int64   \n",
      " 8   Ticket       891 non-null    object  \n",
      " 9   Fare         891 non-null    float64 \n",
      " 10  Embarked     891 non-null    object  \n",
      " 11  Age_groups   891 non-null    category\n",
      " 12  Fare_groups  876 non-null    category\n",
      "dtypes: category(2), float64(2), int64(5), object(4)\n",
      "memory usage: 284.1 KB\n"
     ]
    }
   ],
   "source": [
    "train_df.info(memory_usage = \"deep\")"
   ]
  },
  {
   "cell_type": "markdown",
   "id": "27df112c",
   "metadata": {
    "papermill": {
     "duration": 0.017749,
     "end_time": "2025-04-23T08:56:05.329999",
     "exception": false,
     "start_time": "2025-04-23T08:56:05.312250",
     "status": "completed"
    },
    "tags": []
   },
   "source": [
    "In those cases, it matches when `Fare`= 0.0; so let's impute those values with zero, so they belongs to the first category `low`."
   ]
  },
  {
   "cell_type": "code",
   "execution_count": 30,
   "id": "61c6d039",
   "metadata": {
    "execution": {
     "iopub.execute_input": "2025-04-23T08:56:05.366863Z",
     "iopub.status.busy": "2025-04-23T08:56:05.366495Z",
     "iopub.status.idle": "2025-04-23T08:56:05.383612Z",
     "shell.execute_reply": "2025-04-23T08:56:05.382502Z"
    },
    "papermill": {
     "duration": 0.037288,
     "end_time": "2025-04-23T08:56:05.385157",
     "exception": false,
     "start_time": "2025-04-23T08:56:05.347869",
     "status": "completed"
    },
    "tags": []
   },
   "outputs": [
    {
     "data": {
      "text/html": [
       "<div>\n",
       "<style scoped>\n",
       "    .dataframe tbody tr th:only-of-type {\n",
       "        vertical-align: middle;\n",
       "    }\n",
       "\n",
       "    .dataframe tbody tr th {\n",
       "        vertical-align: top;\n",
       "    }\n",
       "\n",
       "    .dataframe thead th {\n",
       "        text-align: right;\n",
       "    }\n",
       "</style>\n",
       "<table border=\"1\" class=\"dataframe\">\n",
       "  <thead>\n",
       "    <tr style=\"text-align: right;\">\n",
       "      <th></th>\n",
       "      <th>PassengerId</th>\n",
       "      <th>Survived</th>\n",
       "      <th>Pclass</th>\n",
       "      <th>Name</th>\n",
       "      <th>Sex</th>\n",
       "      <th>Age</th>\n",
       "      <th>SibSp</th>\n",
       "      <th>Parch</th>\n",
       "      <th>Ticket</th>\n",
       "      <th>Fare</th>\n",
       "      <th>Embarked</th>\n",
       "      <th>Age_groups</th>\n",
       "      <th>Fare_groups</th>\n",
       "    </tr>\n",
       "  </thead>\n",
       "  <tbody>\n",
       "    <tr>\n",
       "      <th>179</th>\n",
       "      <td>180</td>\n",
       "      <td>0</td>\n",
       "      <td>3</td>\n",
       "      <td>Leonard, Mr. Lionel</td>\n",
       "      <td>male</td>\n",
       "      <td>36.0</td>\n",
       "      <td>0</td>\n",
       "      <td>0</td>\n",
       "      <td>LINE</td>\n",
       "      <td>0.0</td>\n",
       "      <td>S</td>\n",
       "      <td>Adult</td>\n",
       "      <td>NaN</td>\n",
       "    </tr>\n",
       "    <tr>\n",
       "      <th>263</th>\n",
       "      <td>264</td>\n",
       "      <td>0</td>\n",
       "      <td>1</td>\n",
       "      <td>Harrison, Mr. William</td>\n",
       "      <td>male</td>\n",
       "      <td>40.0</td>\n",
       "      <td>0</td>\n",
       "      <td>0</td>\n",
       "      <td>112059</td>\n",
       "      <td>0.0</td>\n",
       "      <td>S</td>\n",
       "      <td>Adult</td>\n",
       "      <td>NaN</td>\n",
       "    </tr>\n",
       "    <tr>\n",
       "      <th>271</th>\n",
       "      <td>272</td>\n",
       "      <td>1</td>\n",
       "      <td>3</td>\n",
       "      <td>Tornquist, Mr. William Henry</td>\n",
       "      <td>male</td>\n",
       "      <td>25.0</td>\n",
       "      <td>0</td>\n",
       "      <td>0</td>\n",
       "      <td>LINE</td>\n",
       "      <td>0.0</td>\n",
       "      <td>S</td>\n",
       "      <td>Teen</td>\n",
       "      <td>NaN</td>\n",
       "    </tr>\n",
       "    <tr>\n",
       "      <th>277</th>\n",
       "      <td>278</td>\n",
       "      <td>0</td>\n",
       "      <td>2</td>\n",
       "      <td>Parkes, Mr. Francis \"Frank\"</td>\n",
       "      <td>male</td>\n",
       "      <td>30.0</td>\n",
       "      <td>0</td>\n",
       "      <td>0</td>\n",
       "      <td>239853</td>\n",
       "      <td>0.0</td>\n",
       "      <td>S</td>\n",
       "      <td>Young Adult</td>\n",
       "      <td>NaN</td>\n",
       "    </tr>\n",
       "    <tr>\n",
       "      <th>302</th>\n",
       "      <td>303</td>\n",
       "      <td>0</td>\n",
       "      <td>3</td>\n",
       "      <td>Johnson, Mr. William Cahoone Jr</td>\n",
       "      <td>male</td>\n",
       "      <td>19.0</td>\n",
       "      <td>0</td>\n",
       "      <td>0</td>\n",
       "      <td>LINE</td>\n",
       "      <td>0.0</td>\n",
       "      <td>S</td>\n",
       "      <td>Teen</td>\n",
       "      <td>NaN</td>\n",
       "    </tr>\n",
       "    <tr>\n",
       "      <th>413</th>\n",
       "      <td>414</td>\n",
       "      <td>0</td>\n",
       "      <td>2</td>\n",
       "      <td>Cunningham, Mr. Alfred Fleming</td>\n",
       "      <td>male</td>\n",
       "      <td>30.0</td>\n",
       "      <td>0</td>\n",
       "      <td>0</td>\n",
       "      <td>239853</td>\n",
       "      <td>0.0</td>\n",
       "      <td>S</td>\n",
       "      <td>Young Adult</td>\n",
       "      <td>NaN</td>\n",
       "    </tr>\n",
       "    <tr>\n",
       "      <th>466</th>\n",
       "      <td>467</td>\n",
       "      <td>0</td>\n",
       "      <td>2</td>\n",
       "      <td>Campbell, Mr. William</td>\n",
       "      <td>male</td>\n",
       "      <td>30.0</td>\n",
       "      <td>0</td>\n",
       "      <td>0</td>\n",
       "      <td>239853</td>\n",
       "      <td>0.0</td>\n",
       "      <td>S</td>\n",
       "      <td>Young Adult</td>\n",
       "      <td>NaN</td>\n",
       "    </tr>\n",
       "    <tr>\n",
       "      <th>481</th>\n",
       "      <td>482</td>\n",
       "      <td>0</td>\n",
       "      <td>2</td>\n",
       "      <td>Frost, Mr. Anthony Wood \"Archie\"</td>\n",
       "      <td>male</td>\n",
       "      <td>30.0</td>\n",
       "      <td>0</td>\n",
       "      <td>0</td>\n",
       "      <td>239854</td>\n",
       "      <td>0.0</td>\n",
       "      <td>S</td>\n",
       "      <td>Young Adult</td>\n",
       "      <td>NaN</td>\n",
       "    </tr>\n",
       "    <tr>\n",
       "      <th>597</th>\n",
       "      <td>598</td>\n",
       "      <td>0</td>\n",
       "      <td>3</td>\n",
       "      <td>Johnson, Mr. Alfred</td>\n",
       "      <td>male</td>\n",
       "      <td>49.0</td>\n",
       "      <td>0</td>\n",
       "      <td>0</td>\n",
       "      <td>LINE</td>\n",
       "      <td>0.0</td>\n",
       "      <td>S</td>\n",
       "      <td>Adult</td>\n",
       "      <td>NaN</td>\n",
       "    </tr>\n",
       "    <tr>\n",
       "      <th>633</th>\n",
       "      <td>634</td>\n",
       "      <td>0</td>\n",
       "      <td>1</td>\n",
       "      <td>Parr, Mr. William Henry Marsh</td>\n",
       "      <td>male</td>\n",
       "      <td>40.0</td>\n",
       "      <td>0</td>\n",
       "      <td>0</td>\n",
       "      <td>112052</td>\n",
       "      <td>0.0</td>\n",
       "      <td>S</td>\n",
       "      <td>Adult</td>\n",
       "      <td>NaN</td>\n",
       "    </tr>\n",
       "    <tr>\n",
       "      <th>674</th>\n",
       "      <td>675</td>\n",
       "      <td>0</td>\n",
       "      <td>2</td>\n",
       "      <td>Watson, Mr. Ennis Hastings</td>\n",
       "      <td>male</td>\n",
       "      <td>30.0</td>\n",
       "      <td>0</td>\n",
       "      <td>0</td>\n",
       "      <td>239856</td>\n",
       "      <td>0.0</td>\n",
       "      <td>S</td>\n",
       "      <td>Young Adult</td>\n",
       "      <td>NaN</td>\n",
       "    </tr>\n",
       "    <tr>\n",
       "      <th>732</th>\n",
       "      <td>733</td>\n",
       "      <td>0</td>\n",
       "      <td>2</td>\n",
       "      <td>Knight, Mr. Robert J</td>\n",
       "      <td>male</td>\n",
       "      <td>30.0</td>\n",
       "      <td>0</td>\n",
       "      <td>0</td>\n",
       "      <td>239855</td>\n",
       "      <td>0.0</td>\n",
       "      <td>S</td>\n",
       "      <td>Young Adult</td>\n",
       "      <td>NaN</td>\n",
       "    </tr>\n",
       "    <tr>\n",
       "      <th>806</th>\n",
       "      <td>807</td>\n",
       "      <td>0</td>\n",
       "      <td>1</td>\n",
       "      <td>Andrews, Mr. Thomas Jr</td>\n",
       "      <td>male</td>\n",
       "      <td>39.0</td>\n",
       "      <td>0</td>\n",
       "      <td>0</td>\n",
       "      <td>112050</td>\n",
       "      <td>0.0</td>\n",
       "      <td>S</td>\n",
       "      <td>Adult</td>\n",
       "      <td>NaN</td>\n",
       "    </tr>\n",
       "    <tr>\n",
       "      <th>815</th>\n",
       "      <td>816</td>\n",
       "      <td>0</td>\n",
       "      <td>1</td>\n",
       "      <td>Fry, Mr. Richard</td>\n",
       "      <td>male</td>\n",
       "      <td>40.0</td>\n",
       "      <td>0</td>\n",
       "      <td>0</td>\n",
       "      <td>112058</td>\n",
       "      <td>0.0</td>\n",
       "      <td>S</td>\n",
       "      <td>Adult</td>\n",
       "      <td>NaN</td>\n",
       "    </tr>\n",
       "    <tr>\n",
       "      <th>822</th>\n",
       "      <td>823</td>\n",
       "      <td>0</td>\n",
       "      <td>1</td>\n",
       "      <td>Reuchlin, Jonkheer. John George</td>\n",
       "      <td>male</td>\n",
       "      <td>38.0</td>\n",
       "      <td>0</td>\n",
       "      <td>0</td>\n",
       "      <td>19972</td>\n",
       "      <td>0.0</td>\n",
       "      <td>S</td>\n",
       "      <td>Adult</td>\n",
       "      <td>NaN</td>\n",
       "    </tr>\n",
       "  </tbody>\n",
       "</table>\n",
       "</div>"
      ],
      "text/plain": [
       "     PassengerId  Survived  Pclass                              Name   Sex  \\\n",
       "179          180         0       3               Leonard, Mr. Lionel  male   \n",
       "263          264         0       1             Harrison, Mr. William  male   \n",
       "271          272         1       3      Tornquist, Mr. William Henry  male   \n",
       "277          278         0       2       Parkes, Mr. Francis \"Frank\"  male   \n",
       "302          303         0       3   Johnson, Mr. William Cahoone Jr  male   \n",
       "413          414         0       2    Cunningham, Mr. Alfred Fleming  male   \n",
       "466          467         0       2             Campbell, Mr. William  male   \n",
       "481          482         0       2  Frost, Mr. Anthony Wood \"Archie\"  male   \n",
       "597          598         0       3               Johnson, Mr. Alfred  male   \n",
       "633          634         0       1     Parr, Mr. William Henry Marsh  male   \n",
       "674          675         0       2        Watson, Mr. Ennis Hastings  male   \n",
       "732          733         0       2              Knight, Mr. Robert J  male   \n",
       "806          807         0       1            Andrews, Mr. Thomas Jr  male   \n",
       "815          816         0       1                  Fry, Mr. Richard  male   \n",
       "822          823         0       1   Reuchlin, Jonkheer. John George  male   \n",
       "\n",
       "      Age  SibSp  Parch  Ticket  Fare Embarked   Age_groups Fare_groups  \n",
       "179  36.0      0      0    LINE   0.0        S        Adult         NaN  \n",
       "263  40.0      0      0  112059   0.0        S        Adult         NaN  \n",
       "271  25.0      0      0    LINE   0.0        S         Teen         NaN  \n",
       "277  30.0      0      0  239853   0.0        S  Young Adult         NaN  \n",
       "302  19.0      0      0    LINE   0.0        S         Teen         NaN  \n",
       "413  30.0      0      0  239853   0.0        S  Young Adult         NaN  \n",
       "466  30.0      0      0  239853   0.0        S  Young Adult         NaN  \n",
       "481  30.0      0      0  239854   0.0        S  Young Adult         NaN  \n",
       "597  49.0      0      0    LINE   0.0        S        Adult         NaN  \n",
       "633  40.0      0      0  112052   0.0        S        Adult         NaN  \n",
       "674  30.0      0      0  239856   0.0        S  Young Adult         NaN  \n",
       "732  30.0      0      0  239855   0.0        S  Young Adult         NaN  \n",
       "806  39.0      0      0  112050   0.0        S        Adult         NaN  \n",
       "815  40.0      0      0  112058   0.0        S        Adult         NaN  \n",
       "822  38.0      0      0   19972   0.0        S        Adult         NaN  "
      ]
     },
     "execution_count": 30,
     "metadata": {},
     "output_type": "execute_result"
    }
   ],
   "source": [
    "train_df[train_df['Fare_groups'].isnull()]"
   ]
  },
  {
   "cell_type": "code",
   "execution_count": 31,
   "id": "e2e616ef",
   "metadata": {
    "execution": {
     "iopub.execute_input": "2025-04-23T08:56:05.422731Z",
     "iopub.status.busy": "2025-04-23T08:56:05.422375Z",
     "iopub.status.idle": "2025-04-23T08:56:05.427495Z",
     "shell.execute_reply": "2025-04-23T08:56:05.426671Z"
    },
    "papermill": {
     "duration": 0.025565,
     "end_time": "2025-04-23T08:56:05.428979",
     "exception": false,
     "start_time": "2025-04-23T08:56:05.403414",
     "status": "completed"
    },
    "tags": []
   },
   "outputs": [],
   "source": [
    "train_df['Fare_groups'] = train_df['Fare_groups'].fillna('low')\n",
    "test_df['Fare_groups'] = test_df['Fare_groups'].fillna('low')"
   ]
  },
  {
   "cell_type": "code",
   "execution_count": 32,
   "id": "a4a0ea4b",
   "metadata": {
    "execution": {
     "iopub.execute_input": "2025-04-23T08:56:05.466182Z",
     "iopub.status.busy": "2025-04-23T08:56:05.465870Z",
     "iopub.status.idle": "2025-04-23T08:56:05.476682Z",
     "shell.execute_reply": "2025-04-23T08:56:05.475810Z"
    },
    "papermill": {
     "duration": 0.030988,
     "end_time": "2025-04-23T08:56:05.478058",
     "exception": false,
     "start_time": "2025-04-23T08:56:05.447070",
     "status": "completed"
    },
    "tags": []
   },
   "outputs": [
    {
     "name": "stdout",
     "output_type": "stream",
     "text": [
      "<class 'pandas.core.frame.DataFrame'>\n",
      "RangeIndex: 891 entries, 0 to 890\n",
      "Data columns (total 13 columns):\n",
      " #   Column       Non-Null Count  Dtype   \n",
      "---  ------       --------------  -----   \n",
      " 0   PassengerId  891 non-null    int64   \n",
      " 1   Survived     891 non-null    int64   \n",
      " 2   Pclass       891 non-null    int64   \n",
      " 3   Name         891 non-null    object  \n",
      " 4   Sex          891 non-null    object  \n",
      " 5   Age          891 non-null    float64 \n",
      " 6   SibSp        891 non-null    int64   \n",
      " 7   Parch        891 non-null    int64   \n",
      " 8   Ticket       891 non-null    object  \n",
      " 9   Fare         891 non-null    float64 \n",
      " 10  Embarked     891 non-null    object  \n",
      " 11  Age_groups   891 non-null    category\n",
      " 12  Fare_groups  891 non-null    category\n",
      "dtypes: category(2), float64(2), int64(5), object(4)\n",
      "memory usage: 284.1 KB\n"
     ]
    }
   ],
   "source": [
    "train_df.info(memory_usage = \"deep\")"
   ]
  },
  {
   "cell_type": "code",
   "execution_count": 33,
   "id": "4c1590c5",
   "metadata": {
    "execution": {
     "iopub.execute_input": "2025-04-23T08:56:05.515749Z",
     "iopub.status.busy": "2025-04-23T08:56:05.515420Z",
     "iopub.status.idle": "2025-04-23T08:56:05.527741Z",
     "shell.execute_reply": "2025-04-23T08:56:05.526978Z"
    },
    "papermill": {
     "duration": 0.03287,
     "end_time": "2025-04-23T08:56:05.529167",
     "exception": false,
     "start_time": "2025-04-23T08:56:05.496297",
     "status": "completed"
    },
    "tags": []
   },
   "outputs": [
    {
     "data": {
      "text/html": [
       "<div>\n",
       "<style scoped>\n",
       "    .dataframe tbody tr th:only-of-type {\n",
       "        vertical-align: middle;\n",
       "    }\n",
       "\n",
       "    .dataframe tbody tr th {\n",
       "        vertical-align: top;\n",
       "    }\n",
       "\n",
       "    .dataframe thead th {\n",
       "        text-align: right;\n",
       "    }\n",
       "</style>\n",
       "<table border=\"1\" class=\"dataframe\">\n",
       "  <thead>\n",
       "    <tr style=\"text-align: right;\">\n",
       "      <th></th>\n",
       "      <th>Survived</th>\n",
       "      <th>Pclass</th>\n",
       "      <th>Name</th>\n",
       "      <th>Sex</th>\n",
       "      <th>SibSp</th>\n",
       "      <th>Parch</th>\n",
       "      <th>Ticket</th>\n",
       "      <th>Embarked</th>\n",
       "      <th>Age_groups</th>\n",
       "      <th>Fare_groups</th>\n",
       "    </tr>\n",
       "  </thead>\n",
       "  <tbody>\n",
       "    <tr>\n",
       "      <th>0</th>\n",
       "      <td>0</td>\n",
       "      <td>3</td>\n",
       "      <td>Braund, Mr. Owen Harris</td>\n",
       "      <td>male</td>\n",
       "      <td>1</td>\n",
       "      <td>0</td>\n",
       "      <td>A/5 21171</td>\n",
       "      <td>S</td>\n",
       "      <td>Teen</td>\n",
       "      <td>low</td>\n",
       "    </tr>\n",
       "    <tr>\n",
       "      <th>1</th>\n",
       "      <td>1</td>\n",
       "      <td>1</td>\n",
       "      <td>Cumings, Mrs. John Bradley (Florence Briggs Th...</td>\n",
       "      <td>female</td>\n",
       "      <td>1</td>\n",
       "      <td>0</td>\n",
       "      <td>PC 17599</td>\n",
       "      <td>C</td>\n",
       "      <td>Adult</td>\n",
       "      <td>rich</td>\n",
       "    </tr>\n",
       "    <tr>\n",
       "      <th>2</th>\n",
       "      <td>1</td>\n",
       "      <td>3</td>\n",
       "      <td>Heikkinen, Miss. Laina</td>\n",
       "      <td>female</td>\n",
       "      <td>0</td>\n",
       "      <td>0</td>\n",
       "      <td>STON/O2. 3101282</td>\n",
       "      <td>S</td>\n",
       "      <td>Young Adult</td>\n",
       "      <td>low</td>\n",
       "    </tr>\n",
       "    <tr>\n",
       "      <th>3</th>\n",
       "      <td>1</td>\n",
       "      <td>1</td>\n",
       "      <td>Futrelle, Mrs. Jacques Heath (Lily May Peel)</td>\n",
       "      <td>female</td>\n",
       "      <td>1</td>\n",
       "      <td>0</td>\n",
       "      <td>113803</td>\n",
       "      <td>S</td>\n",
       "      <td>Young Adult</td>\n",
       "      <td>rich</td>\n",
       "    </tr>\n",
       "    <tr>\n",
       "      <th>4</th>\n",
       "      <td>0</td>\n",
       "      <td>3</td>\n",
       "      <td>Allen, Mr. William Henry</td>\n",
       "      <td>male</td>\n",
       "      <td>0</td>\n",
       "      <td>0</td>\n",
       "      <td>373450</td>\n",
       "      <td>S</td>\n",
       "      <td>Young Adult</td>\n",
       "      <td>low</td>\n",
       "    </tr>\n",
       "  </tbody>\n",
       "</table>\n",
       "</div>"
      ],
      "text/plain": [
       "   Survived  Pclass                                               Name  \\\n",
       "0         0       3                            Braund, Mr. Owen Harris   \n",
       "1         1       1  Cumings, Mrs. John Bradley (Florence Briggs Th...   \n",
       "2         1       3                             Heikkinen, Miss. Laina   \n",
       "3         1       1       Futrelle, Mrs. Jacques Heath (Lily May Peel)   \n",
       "4         0       3                           Allen, Mr. William Henry   \n",
       "\n",
       "      Sex  SibSp  Parch            Ticket Embarked   Age_groups Fare_groups  \n",
       "0    male      1      0         A/5 21171        S         Teen         low  \n",
       "1  female      1      0          PC 17599        C        Adult        rich  \n",
       "2  female      0      0  STON/O2. 3101282        S  Young Adult         low  \n",
       "3  female      1      0            113803        S  Young Adult        rich  \n",
       "4    male      0      0            373450        S  Young Adult         low  "
      ]
     },
     "execution_count": 33,
     "metadata": {},
     "output_type": "execute_result"
    }
   ],
   "source": [
    "train_df.drop(columns=['Age','Fare','PassengerId'],inplace=True)\n",
    "train_df.head()"
   ]
  },
  {
   "cell_type": "markdown",
   "id": "3bf2459a",
   "metadata": {
    "papermill": {
     "duration": 0.017718,
     "end_time": "2025-04-23T08:56:05.565168",
     "exception": false,
     "start_time": "2025-04-23T08:56:05.547450",
     "status": "completed"
    },
    "tags": []
   },
   "source": [
    "As we have different values for Name, those values could impact in the performance of the algorithm, based that some alias are attached to the age:"
   ]
  },
  {
   "cell_type": "code",
   "execution_count": 34,
   "id": "6ba8f994",
   "metadata": {
    "execution": {
     "iopub.execute_input": "2025-04-23T08:56:05.602753Z",
     "iopub.status.busy": "2025-04-23T08:56:05.602427Z",
     "iopub.status.idle": "2025-04-23T08:56:05.610624Z",
     "shell.execute_reply": "2025-04-23T08:56:05.609541Z"
    },
    "papermill": {
     "duration": 0.029009,
     "end_time": "2025-04-23T08:56:05.612283",
     "exception": false,
     "start_time": "2025-04-23T08:56:05.583274",
     "status": "completed"
    },
    "tags": []
   },
   "outputs": [
    {
     "name": "stdout",
     "output_type": "stream",
     "text": [
      "Title\n",
      "Mr          517\n",
      "Miss        182\n",
      "Mrs         125\n",
      "Master       40\n",
      "Dr            7\n",
      "Rev           6\n",
      "Mlle          2\n",
      "Major         2\n",
      "Col           2\n",
      "Countess      1\n",
      "Capt          1\n",
      "Ms            1\n",
      "Sir           1\n",
      "Lady          1\n",
      "Mme           1\n",
      "Don           1\n",
      "Jonkheer      1\n",
      "Name: count, dtype: int64\n"
     ]
    }
   ],
   "source": [
    "train_df['Title'] = train_df['Name'].str.extract(' ([A-Za-z]+)\\.', expand=False)\n",
    "print(train_df['Title'].value_counts())"
   ]
  },
  {
   "cell_type": "code",
   "execution_count": 35,
   "id": "2d159971",
   "metadata": {
    "execution": {
     "iopub.execute_input": "2025-04-23T08:56:05.650717Z",
     "iopub.status.busy": "2025-04-23T08:56:05.649959Z",
     "iopub.status.idle": "2025-04-23T08:56:05.660945Z",
     "shell.execute_reply": "2025-04-23T08:56:05.660064Z"
    },
    "papermill": {
     "duration": 0.031839,
     "end_time": "2025-04-23T08:56:05.662551",
     "exception": false,
     "start_time": "2025-04-23T08:56:05.630712",
     "status": "completed"
    },
    "tags": []
   },
   "outputs": [],
   "source": [
    "#So, next step:\n",
    "\n",
    "# You can group rare titles under 'Other'\n",
    "train_df['Title'] = train_df['Title'].replace(['Lady', 'Countess','Capt', 'Col',\n",
    "                                                'Don', 'Dr', 'Major', 'Rev', 'Sir', \n",
    "                                                'Jonkheer', 'Dona'], 'Other')\n",
    "\n",
    "train_df['Title'] = train_df['Title'].replace('Mlle', 'Miss')\n",
    "train_df['Title'] = train_df['Title'].replace('Ms', 'Miss')\n",
    "train_df['Title'] = train_df['Title'].replace('Mme', 'Mrs')\n",
    "\n",
    "train_df.drop('Name', axis=1, inplace=True)"
   ]
  },
  {
   "cell_type": "code",
   "execution_count": 36,
   "id": "89938c92",
   "metadata": {
    "execution": {
     "iopub.execute_input": "2025-04-23T08:56:05.701670Z",
     "iopub.status.busy": "2025-04-23T08:56:05.701084Z",
     "iopub.status.idle": "2025-04-23T08:56:05.705841Z",
     "shell.execute_reply": "2025-04-23T08:56:05.704958Z"
    },
    "papermill": {
     "duration": 0.026233,
     "end_time": "2025-04-23T08:56:05.707295",
     "exception": false,
     "start_time": "2025-04-23T08:56:05.681062",
     "status": "completed"
    },
    "tags": []
   },
   "outputs": [],
   "source": [
    "def metrics(y_test,y_pred):\n",
    "    print(f\"Accuracy: {accuracy_score(y_test, y_pred):.4f}\")\n",
    "    print(\"\\nClassification Report:\")\n",
    "    print(classification_report(y_test, y_pred))\n",
    "    print(\"\\nConfusion Matrix:\")\n",
    "    print(confusion_matrix(y_test, y_pred))"
   ]
  },
  {
   "cell_type": "code",
   "execution_count": 37,
   "id": "32b3cbd0",
   "metadata": {
    "execution": {
     "iopub.execute_input": "2025-04-23T08:56:05.745824Z",
     "iopub.status.busy": "2025-04-23T08:56:05.745495Z",
     "iopub.status.idle": "2025-04-23T08:56:08.599464Z",
     "shell.execute_reply": "2025-04-23T08:56:08.598452Z"
    },
    "papermill": {
     "duration": 2.875011,
     "end_time": "2025-04-23T08:56:08.601058",
     "exception": false,
     "start_time": "2025-04-23T08:56:05.726047",
     "status": "completed"
    },
    "tags": []
   },
   "outputs": [
    {
     "name": "stdout",
     "output_type": "stream",
     "text": [
      "Learning rate set to 0.008672\n",
      "0:\tlearn: 0.6883233\ttotal: 60.5ms\tremaining: 1m\n",
      "100:\tlearn: 0.4626523\ttotal: 322ms\tremaining: 2.86s\n",
      "200:\tlearn: 0.3950087\ttotal: 584ms\tremaining: 2.32s\n",
      "300:\tlearn: 0.3657521\ttotal: 845ms\tremaining: 1.96s\n",
      "400:\tlearn: 0.3478366\ttotal: 1.1s\tremaining: 1.64s\n",
      "500:\tlearn: 0.3337046\ttotal: 1.36s\tremaining: 1.36s\n",
      "600:\tlearn: 0.3227609\ttotal: 1.61s\tremaining: 1.07s\n",
      "700:\tlearn: 0.3129192\ttotal: 1.87s\tremaining: 797ms\n",
      "800:\tlearn: 0.3022035\ttotal: 2.12s\tremaining: 526ms\n",
      "900:\tlearn: 0.2936603\ttotal: 2.37s\tremaining: 260ms\n",
      "999:\tlearn: 0.2881988\ttotal: 2.6s\tremaining: 0us\n",
      "Accuracy: 0.7803\n",
      "\n",
      "Classification Report:\n",
      "              precision    recall  f1-score   support\n",
      "\n",
      "           0       0.86      0.77      0.81       137\n",
      "           1       0.68      0.80      0.74        86\n",
      "\n",
      "    accuracy                           0.78       223\n",
      "   macro avg       0.77      0.78      0.77       223\n",
      "weighted avg       0.79      0.78      0.78       223\n",
      "\n",
      "\n",
      "Confusion Matrix:\n",
      "[[105  32]\n",
      " [ 17  69]]\n"
     ]
    }
   ],
   "source": [
    "y= train_df['Survived']\n",
    "X= train_df.loc[:, train_df.columns != 'Survived']\n",
    "\n",
    "# Step 2: Identify categorical features (CatBoost uses column names or indices)\n",
    "cat_features = X.select_dtypes(include=['object', 'category']).columns.tolist()\n",
    "\n",
    "# Step 3: Train-test split\n",
    "X_train, X_test, y_train, y_test = train_test_split(X, y, stratify=y, random_state=42)\n",
    "\n",
    "# Step 4: Create Pool object (optional but recommended for cat features)\n",
    "train_pool = Pool(data=X_train, label=y_train, cat_features=cat_features)\n",
    "test_pool = Pool(data=X_test, label=y_test, cat_features=cat_features)\n",
    "\n",
    "# Step 5: Initialize and train the model\n",
    "model_cat = CatBoostClassifier(verbose=100, random_state=42, class_weights=[1,3])\n",
    "model_cat.fit(train_pool)\n",
    "\n",
    "# Step 6: Predict & evaluate\n",
    "y_pred = model_cat.predict(X_test)\n",
    "metrics(y_test, y_pred)"
   ]
  },
  {
   "cell_type": "markdown",
   "id": "a9b59806",
   "metadata": {
    "papermill": {
     "duration": 0.018525,
     "end_time": "2025-04-23T08:56:08.638753",
     "exception": false,
     "start_time": "2025-04-23T08:56:08.620228",
     "status": "completed"
    },
    "tags": []
   },
   "source": [
    "Wow! We can see that involving Title is really usefull, however some metrics slightly dropped down, but keep looking into data!"
   ]
  },
  {
   "cell_type": "code",
   "execution_count": 38,
   "id": "1e7e6ebd",
   "metadata": {
    "execution": {
     "iopub.execute_input": "2025-04-23T08:56:08.678360Z",
     "iopub.status.busy": "2025-04-23T08:56:08.677572Z",
     "iopub.status.idle": "2025-04-23T08:56:08.693084Z",
     "shell.execute_reply": "2025-04-23T08:56:08.692228Z"
    },
    "papermill": {
     "duration": 0.037021,
     "end_time": "2025-04-23T08:56:08.694681",
     "exception": false,
     "start_time": "2025-04-23T08:56:08.657660",
     "status": "completed"
    },
    "tags": []
   },
   "outputs": [
    {
     "data": {
      "text/html": [
       "<div>\n",
       "<style scoped>\n",
       "    .dataframe tbody tr th:only-of-type {\n",
       "        vertical-align: middle;\n",
       "    }\n",
       "\n",
       "    .dataframe tbody tr th {\n",
       "        vertical-align: top;\n",
       "    }\n",
       "\n",
       "    .dataframe thead th {\n",
       "        text-align: right;\n",
       "    }\n",
       "</style>\n",
       "<table border=\"1\" class=\"dataframe\">\n",
       "  <thead>\n",
       "    <tr style=\"text-align: right;\">\n",
       "      <th></th>\n",
       "      <th>Feature Id</th>\n",
       "      <th>Importances</th>\n",
       "    </tr>\n",
       "  </thead>\n",
       "  <tbody>\n",
       "    <tr>\n",
       "      <th>0</th>\n",
       "      <td>Title</td>\n",
       "      <td>24.237462</td>\n",
       "    </tr>\n",
       "    <tr>\n",
       "      <th>1</th>\n",
       "      <td>Pclass</td>\n",
       "      <td>17.917903</td>\n",
       "    </tr>\n",
       "    <tr>\n",
       "      <th>2</th>\n",
       "      <td>Ticket</td>\n",
       "      <td>13.809100</td>\n",
       "    </tr>\n",
       "    <tr>\n",
       "      <th>3</th>\n",
       "      <td>Fare_groups</td>\n",
       "      <td>12.394430</td>\n",
       "    </tr>\n",
       "    <tr>\n",
       "      <th>4</th>\n",
       "      <td>Age_groups</td>\n",
       "      <td>10.811997</td>\n",
       "    </tr>\n",
       "    <tr>\n",
       "      <th>5</th>\n",
       "      <td>Embarked</td>\n",
       "      <td>10.579428</td>\n",
       "    </tr>\n",
       "    <tr>\n",
       "      <th>6</th>\n",
       "      <td>Sex</td>\n",
       "      <td>5.131833</td>\n",
       "    </tr>\n",
       "    <tr>\n",
       "      <th>7</th>\n",
       "      <td>SibSp</td>\n",
       "      <td>3.590700</td>\n",
       "    </tr>\n",
       "    <tr>\n",
       "      <th>8</th>\n",
       "      <td>Parch</td>\n",
       "      <td>1.527147</td>\n",
       "    </tr>\n",
       "  </tbody>\n",
       "</table>\n",
       "</div>"
      ],
      "text/plain": [
       "    Feature Id  Importances\n",
       "0        Title    24.237462\n",
       "1       Pclass    17.917903\n",
       "2       Ticket    13.809100\n",
       "3  Fare_groups    12.394430\n",
       "4   Age_groups    10.811997\n",
       "5     Embarked    10.579428\n",
       "6          Sex     5.131833\n",
       "7        SibSp     3.590700\n",
       "8        Parch     1.527147"
      ]
     },
     "execution_count": 38,
     "metadata": {},
     "output_type": "execute_result"
    }
   ],
   "source": [
    "model_cat.get_feature_importance(prettified=True)"
   ]
  },
  {
   "cell_type": "markdown",
   "id": "8456e27c",
   "metadata": {
    "papermill": {
     "duration": 0.019204,
     "end_time": "2025-04-23T08:56:08.734961",
     "exception": false,
     "start_time": "2025-04-23T08:56:08.715757",
     "status": "completed"
    },
    "tags": []
   },
   "source": [
    "Next step is to try with hyperparameter in GridSearch!"
   ]
  },
  {
   "cell_type": "code",
   "execution_count": 39,
   "id": "2b42c384",
   "metadata": {
    "collapsed": true,
    "execution": {
     "iopub.execute_input": "2025-04-23T08:56:08.776608Z",
     "iopub.status.busy": "2025-04-23T08:56:08.775268Z",
     "iopub.status.idle": "2025-04-23T08:57:48.712835Z",
     "shell.execute_reply": "2025-04-23T08:57:48.711352Z"
    },
    "jupyter": {
     "outputs_hidden": true
    },
    "papermill": {
     "duration": 99.959568,
     "end_time": "2025-04-23T08:57:48.714543",
     "exception": false,
     "start_time": "2025-04-23T08:56:08.754975",
     "status": "completed"
    },
    "tags": []
   },
   "outputs": [
    {
     "name": "stdout",
     "output_type": "stream",
     "text": [
      "0:\tlearn: 0.6661140\ttotal: 4.81ms\tremaining: 958ms\n",
      "100:\tlearn: 0.3173062\ttotal: 284ms\tremaining: 278ms\n",
      "199:\tlearn: 0.2779074\ttotal: 544ms\tremaining: 0us\n",
      "Best Params: {'depth': 6, 'iterations': 200, 'learning_rate': 0.05}\n",
      "Best F1 Score: 0.7847681613322129\n"
     ]
    }
   ],
   "source": [
    "param_grid={\n",
    "    'depth': [4, 6, 8],\n",
    "    'learning_rate': [0.01, 0.05, 0.1],\n",
    "    'iterations': [200, 500]\n",
    "}\n",
    "\n",
    "# Set up GridSearchCV\n",
    "grid_search = GridSearchCV(\n",
    "    estimator=model_cat,\n",
    "    param_grid=param_grid,\n",
    "    scoring='f1',  # or 'accuracy' depending on your goal\n",
    "    cv=5,\n",
    "    n_jobs=-1\n",
    ")\n",
    "\n",
    "# Fit the grid search\n",
    "grid_search.fit(X_train, y_train, cat_features=cat_features)\n",
    "\n",
    "# Show the best parameters and score\n",
    "print(\"Best Params:\", grid_search.best_params_)\n",
    "print(\"Best F1 Score:\", grid_search.best_score_)"
   ]
  },
  {
   "cell_type": "code",
   "execution_count": 40,
   "id": "d8063517",
   "metadata": {
    "execution": {
     "iopub.execute_input": "2025-04-23T08:57:48.755342Z",
     "iopub.status.busy": "2025-04-23T08:57:48.754983Z",
     "iopub.status.idle": "2025-04-23T08:57:49.367759Z",
     "shell.execute_reply": "2025-04-23T08:57:49.366512Z"
    },
    "papermill": {
     "duration": 0.635128,
     "end_time": "2025-04-23T08:57:49.369505",
     "exception": false,
     "start_time": "2025-04-23T08:57:48.734377",
     "status": "completed"
    },
    "tags": []
   },
   "outputs": [
    {
     "name": "stdout",
     "output_type": "stream",
     "text": [
      "0:\tlearn: 0.6661140\ttotal: 3.45ms\tremaining: 687ms\n",
      "100:\tlearn: 0.3173062\ttotal: 284ms\tremaining: 279ms\n",
      "199:\tlearn: 0.2779074\ttotal: 543ms\tremaining: 0us\n",
      "              precision    recall  f1-score   support\n",
      "\n",
      "           0       0.86      0.78      0.82       137\n",
      "           1       0.69      0.79      0.74        86\n",
      "\n",
      "    accuracy                           0.78       223\n",
      "   macro avg       0.77      0.79      0.78       223\n",
      "weighted avg       0.79      0.78      0.79       223\n",
      "\n"
     ]
    }
   ],
   "source": [
    "# Retrain best model\n",
    "best_model = grid_search.best_estimator_\n",
    "best_model.fit(train_pool)\n",
    "\n",
    "# Predict on test set\n",
    "y_pred = best_model.predict(X_test)\n",
    "\n",
    "# Evaluate\n",
    "print(classification_report(y_test, y_pred))"
   ]
  },
  {
   "cell_type": "markdown",
   "id": "7dff1281",
   "metadata": {
    "papermill": {
     "duration": 0.019648,
     "end_time": "2025-04-23T08:57:49.408700",
     "exception": false,
     "start_time": "2025-04-23T08:57:49.389052",
     "status": "completed"
    },
    "tags": []
   },
   "source": [
    "There are a little improvement with the last hyperparameter, which is really small; but our final decision is to take the last model as winner. \n",
    "So, let's procced with the submission!"
   ]
  },
  {
   "cell_type": "markdown",
   "id": "d71281a2",
   "metadata": {
    "papermill": {
     "duration": 0.018955,
     "end_time": "2025-04-23T08:57:49.447171",
     "exception": false,
     "start_time": "2025-04-23T08:57:49.428216",
     "status": "completed"
    },
    "tags": []
   },
   "source": [
    "Remember, that our test.csv should have the same format as our train.csv"
   ]
  },
  {
   "cell_type": "code",
   "execution_count": 41,
   "id": "e430db40",
   "metadata": {
    "execution": {
     "iopub.execute_input": "2025-04-23T08:57:49.486764Z",
     "iopub.status.busy": "2025-04-23T08:57:49.486388Z",
     "iopub.status.idle": "2025-04-23T08:57:49.500470Z",
     "shell.execute_reply": "2025-04-23T08:57:49.499609Z"
    },
    "papermill": {
     "duration": 0.036049,
     "end_time": "2025-04-23T08:57:49.502287",
     "exception": false,
     "start_time": "2025-04-23T08:57:49.466238",
     "status": "completed"
    },
    "tags": []
   },
   "outputs": [],
   "source": [
    "test_df['Title'] = test_df['Name'].str.extract(' ([A-Za-z]+)\\.', expand=False)\n",
    "test_df['Title'] = test_df['Title'].replace(['Lady', 'Countess','Capt', 'Col',\n",
    "                                                'Don', 'Dr', 'Major', 'Rev', 'Sir', \n",
    "                                                'Jonkheer', 'Dona'], 'Other')\n",
    "\n",
    "test_df['Title'] = test_df['Title'].replace('Mlle', 'Miss')\n",
    "test_df['Title'] = test_df['Title'].replace('Ms', 'Miss')\n",
    "test_df['Title'] = test_df['Title'].replace('Mme', 'Mrs')\n",
    "\n",
    "PassId = test_df['PassengerId']\n",
    "test_df.drop(columns=['Name','PassengerId','Age','Fare'], axis=1, inplace=True)"
   ]
  },
  {
   "cell_type": "code",
   "execution_count": 42,
   "id": "0838421a",
   "metadata": {
    "execution": {
     "iopub.execute_input": "2025-04-23T08:57:49.543073Z",
     "iopub.status.busy": "2025-04-23T08:57:49.542773Z",
     "iopub.status.idle": "2025-04-23T08:57:49.555549Z",
     "shell.execute_reply": "2025-04-23T08:57:49.554697Z"
    },
    "papermill": {
     "duration": 0.035425,
     "end_time": "2025-04-23T08:57:49.557277",
     "exception": false,
     "start_time": "2025-04-23T08:57:49.521852",
     "status": "completed"
    },
    "tags": []
   },
   "outputs": [
    {
     "data": {
      "text/html": [
       "<div>\n",
       "<style scoped>\n",
       "    .dataframe tbody tr th:only-of-type {\n",
       "        vertical-align: middle;\n",
       "    }\n",
       "\n",
       "    .dataframe tbody tr th {\n",
       "        vertical-align: top;\n",
       "    }\n",
       "\n",
       "    .dataframe thead th {\n",
       "        text-align: right;\n",
       "    }\n",
       "</style>\n",
       "<table border=\"1\" class=\"dataframe\">\n",
       "  <thead>\n",
       "    <tr style=\"text-align: right;\">\n",
       "      <th></th>\n",
       "      <th>Pclass</th>\n",
       "      <th>Sex</th>\n",
       "      <th>SibSp</th>\n",
       "      <th>Parch</th>\n",
       "      <th>Ticket</th>\n",
       "      <th>Embarked</th>\n",
       "      <th>Age_groups</th>\n",
       "      <th>Fare_groups</th>\n",
       "      <th>Title</th>\n",
       "    </tr>\n",
       "  </thead>\n",
       "  <tbody>\n",
       "    <tr>\n",
       "      <th>0</th>\n",
       "      <td>3</td>\n",
       "      <td>male</td>\n",
       "      <td>0</td>\n",
       "      <td>0</td>\n",
       "      <td>330911</td>\n",
       "      <td>Q</td>\n",
       "      <td>Teen</td>\n",
       "      <td>low</td>\n",
       "      <td>Mr</td>\n",
       "    </tr>\n",
       "    <tr>\n",
       "      <th>1</th>\n",
       "      <td>3</td>\n",
       "      <td>female</td>\n",
       "      <td>1</td>\n",
       "      <td>0</td>\n",
       "      <td>363272</td>\n",
       "      <td>S</td>\n",
       "      <td>Adult</td>\n",
       "      <td>low</td>\n",
       "      <td>Mrs</td>\n",
       "    </tr>\n",
       "    <tr>\n",
       "      <th>2</th>\n",
       "      <td>2</td>\n",
       "      <td>male</td>\n",
       "      <td>0</td>\n",
       "      <td>0</td>\n",
       "      <td>240276</td>\n",
       "      <td>Q</td>\n",
       "      <td>Young Adult</td>\n",
       "      <td>low</td>\n",
       "      <td>Mr</td>\n",
       "    </tr>\n",
       "    <tr>\n",
       "      <th>3</th>\n",
       "      <td>3</td>\n",
       "      <td>male</td>\n",
       "      <td>0</td>\n",
       "      <td>0</td>\n",
       "      <td>315154</td>\n",
       "      <td>S</td>\n",
       "      <td>Young Adult</td>\n",
       "      <td>low</td>\n",
       "      <td>Mr</td>\n",
       "    </tr>\n",
       "    <tr>\n",
       "      <th>4</th>\n",
       "      <td>3</td>\n",
       "      <td>female</td>\n",
       "      <td>1</td>\n",
       "      <td>1</td>\n",
       "      <td>3101298</td>\n",
       "      <td>S</td>\n",
       "      <td>Young Adult</td>\n",
       "      <td>low</td>\n",
       "      <td>Mrs</td>\n",
       "    </tr>\n",
       "  </tbody>\n",
       "</table>\n",
       "</div>"
      ],
      "text/plain": [
       "   Pclass     Sex  SibSp  Parch   Ticket Embarked   Age_groups Fare_groups  \\\n",
       "0       3    male      0      0   330911        Q         Teen         low   \n",
       "1       3  female      1      0   363272        S        Adult         low   \n",
       "2       2    male      0      0   240276        Q  Young Adult         low   \n",
       "3       3    male      0      0   315154        S  Young Adult         low   \n",
       "4       3  female      1      1  3101298        S  Young Adult         low   \n",
       "\n",
       "  Title  \n",
       "0    Mr  \n",
       "1   Mrs  \n",
       "2    Mr  \n",
       "3    Mr  \n",
       "4   Mrs  "
      ]
     },
     "execution_count": 42,
     "metadata": {},
     "output_type": "execute_result"
    }
   ],
   "source": [
    "test_df.head()"
   ]
  },
  {
   "cell_type": "code",
   "execution_count": 43,
   "id": "4fe0c082",
   "metadata": {
    "execution": {
     "iopub.execute_input": "2025-04-23T08:57:49.599870Z",
     "iopub.status.busy": "2025-04-23T08:57:49.599510Z",
     "iopub.status.idle": "2025-04-23T08:57:49.607525Z",
     "shell.execute_reply": "2025-04-23T08:57:49.606436Z"
    },
    "papermill": {
     "duration": 0.030336,
     "end_time": "2025-04-23T08:57:49.609156",
     "exception": false,
     "start_time": "2025-04-23T08:57:49.578820",
     "status": "completed"
    },
    "tags": []
   },
   "outputs": [],
   "source": [
    "# Step 6: Predict & evaluate\n",
    "y_pred_f = model_cat.predict(test_df)"
   ]
  },
  {
   "cell_type": "code",
   "execution_count": 44,
   "id": "6b5e90ee",
   "metadata": {
    "execution": {
     "iopub.execute_input": "2025-04-23T08:57:49.650377Z",
     "iopub.status.busy": "2025-04-23T08:57:49.650007Z",
     "iopub.status.idle": "2025-04-23T08:57:49.662937Z",
     "shell.execute_reply": "2025-04-23T08:57:49.662183Z"
    },
    "papermill": {
     "duration": 0.035138,
     "end_time": "2025-04-23T08:57:49.664495",
     "exception": false,
     "start_time": "2025-04-23T08:57:49.629357",
     "status": "completed"
    },
    "tags": []
   },
   "outputs": [],
   "source": [
    "submission = pd.DataFrame({\n",
    "    'PassengerId': PassId,  \n",
    "    'Survived': y_pred_f.astype(int)       \n",
    "})\n",
    "\n",
    "submission.to_csv('submission.csv', index=False)"
   ]
  }
 ],
 "metadata": {
  "kaggle": {
   "accelerator": "none",
   "dataSources": [
    {
     "databundleVersionId": 26502,
     "sourceId": 3136,
     "sourceType": "competition"
    }
   ],
   "dockerImageVersionId": 31012,
   "isGpuEnabled": false,
   "isInternetEnabled": true,
   "language": "python",
   "sourceType": "notebook"
  },
  "kernelspec": {
   "display_name": "Python 3",
   "language": "python",
   "name": "python3"
  },
  "language_info": {
   "codemirror_mode": {
    "name": "ipython",
    "version": 3
   },
   "file_extension": ".py",
   "mimetype": "text/x-python",
   "name": "python",
   "nbconvert_exporter": "python",
   "pygments_lexer": "ipython3",
   "version": "3.11.11"
  },
  "papermill": {
   "default_parameters": {},
   "duration": 125.73518,
   "end_time": "2025-04-23T08:57:52.305847",
   "environment_variables": {},
   "exception": null,
   "input_path": "__notebook__.ipynb",
   "output_path": "__notebook__.ipynb",
   "parameters": {},
   "start_time": "2025-04-23T08:55:46.570667",
   "version": "2.6.0"
  }
 },
 "nbformat": 4,
 "nbformat_minor": 5
}
